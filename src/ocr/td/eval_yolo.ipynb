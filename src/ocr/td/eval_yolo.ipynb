{
 "cells": [
  {
   "cell_type": "code",
   "execution_count": 8,
   "id": "4a0e20d2",
   "metadata": {},
   "outputs": [],
   "source": [
    "from ultralytics import YOLO\n",
    "from PIL import Image, ImageDraw\n",
    "import pathlib\n",
    "import glob\n",
    "import tqdm\n",
    "import cv2\n",
    "import numpy as np"
   ]
  },
  {
   "cell_type": "code",
   "execution_count": 17,
   "id": "5c2c1ab0",
   "metadata": {},
   "outputs": [
    {
     "name": "stdout",
     "output_type": "stream",
     "text": [
      "1\n"
     ]
    }
   ],
   "source": [
    "# List of sample images to process\n",
    "img_path = 'sample3.jpeg'\n",
    "img_list = glob.glob(img_path)\n",
    "print(len(img_list))"
   ]
  },
  {
   "cell_type": "code",
   "execution_count": 18,
   "id": "8fcb5e43",
   "metadata": {},
   "outputs": [],
   "source": [
    "# Load the YOLO model\n",
    "docseg_model = YOLO('model/yolo-td.pt')\n",
    "docseg_model.overrides['iou'] = 0.1  # NMS IoU threshold\n",
    "conf_thresh = 0.75"
   ]
  },
  {
   "cell_type": "code",
   "execution_count": 23,
   "id": "0f8cb8fe",
   "metadata": {},
   "outputs": [],
   "source": [
    "def get_yolo_preds(img, docseg_model, thresh, shrink_ht = 1, shrink_wt = 1):\n",
    "    image = cv2.imread(img, 0)\n",
    "    orig_image = image.copy()\n",
    "    # BGR to RGB\n",
    "    image = cv2.cvtColor(orig_image, cv2.COLOR_BGR2RGB).astype(np.float32)\n",
    "    # Resize the image\n",
    "    height, width, _ = image.shape\n",
    "    dets = []\n",
    "    results = docseg_model(image, save=True, show_labels=True, show_conf=True, show_boxes=True, conf = conf_thresh)\n",
    "    #results[0].save(filename = f'/home/dhruv/Projects/TD-Results/YOLO/{dataset}/{mode}/' + img.split('/')[-1])\n",
    "    for entry in results:\n",
    "        bboxes = entry.boxes.xyxy.numpy()\n",
    "        classes = entry.boxes.cls.numpy()\n",
    "        conf = entry.boxes.conf.numpy()\n",
    "        for i in range(len(bboxes)):\n",
    "            box = bboxes[i]\n",
    "            if conf[i] > thresh:\n",
    "                dets.append([box[0], box[1], box[2], box[3]])\n",
    "    return dets"
   ]
  },
  {
   "cell_type": "code",
   "execution_count": 24,
   "id": "6364eabf",
   "metadata": {},
   "outputs": [
    {
     "name": "stdout",
     "output_type": "stream",
     "text": [
      "\n",
      "0: 1024x800 1 table, 269.9ms\n",
      "Speed: 6.9ms preprocess, 269.9ms inference, 0.6ms postprocess per image at shape (1, 3, 1024, 800)\n",
      "Results saved to \u001b[1mruns/detect/predict3\u001b[0m\n",
      "[[54.167625, 159.30011, 741.7082, 448.96075]]\n"
     ]
    }
   ],
   "source": [
    "dets = get_yolo_preds(img_list[0], docseg_model, conf_thresh)\n",
    "print(dets)"
   ]
  },
  {
   "cell_type": "markdown",
   "id": "8cbb5248",
   "metadata": {},
   "source": [
    "### Testing"
   ]
  },
  {
   "cell_type": "code",
   "execution_count": 59,
   "id": "c8e2dc75",
   "metadata": {},
   "outputs": [],
   "source": [
    "import json\n",
    "import glob\n",
    "import tqdm"
   ]
  },
  {
   "cell_type": "code",
   "execution_count": 60,
   "id": "79f98300",
   "metadata": {},
   "outputs": [],
   "source": [
    "annot_file_path = f'/home/dhruv/Projects/TD-Dataset/{dataset}/{mode}/annotations.json'\n",
    "images_path = f'/home/dhruv/Projects/TD-Dataset/{dataset}/{mode}/*.jpg'"
   ]
  },
  {
   "cell_type": "code",
   "execution_count": 61,
   "id": "f333c875",
   "metadata": {},
   "outputs": [],
   "source": [
    "fp = open(annot_file_path, 'r')\n",
    "annots = json.load(fp)"
   ]
  },
  {
   "cell_type": "code",
   "execution_count": 62,
   "id": "24a60db7",
   "metadata": {},
   "outputs": [],
   "source": [
    "image_annots = annots['images']\n",
    "table_annots = annots['annotations']"
   ]
  },
  {
   "cell_type": "code",
   "execution_count": 63,
   "id": "2e006b31",
   "metadata": {},
   "outputs": [
    {
     "name": "stdout",
     "output_type": "stream",
     "text": [
      "360\n"
     ]
    }
   ],
   "source": [
    "image_name_list = glob.glob(images_path)\n",
    "print(len(image_name_list))"
   ]
  },
  {
   "cell_type": "code",
   "execution_count": 64,
   "id": "2d2d539d",
   "metadata": {},
   "outputs": [],
   "source": [
    "def get_img_id_from_annots(image_annots, img_path):\n",
    "    img_path_to_search = img_path.split('/')[-1:][0]\n",
    "    for entry in image_annots:\n",
    "        if img_path_to_search[:-4] in entry['file_name']:\n",
    "            return entry['id']"
   ]
  },
  {
   "cell_type": "code",
   "execution_count": 65,
   "id": "e75fbaab",
   "metadata": {},
   "outputs": [],
   "source": [
    "def get_table_annots_from_id(table_annots, img_id):\n",
    "    gt_bboxes = []\n",
    "    for entry in table_annots:\n",
    "        if entry['image_id'] == img_id:\n",
    "            bbox = entry['bbox']\n",
    "            x1 = int(bbox[0])\n",
    "            y1 = int(bbox[1])\n",
    "            x2 = x1 + int(bbox[2])\n",
    "            y2 = y1 + int(bbox[3])\n",
    "            final_bbox = [x1, y1, x2, y2]\n",
    "            gt_bboxes.append(final_bbox)\n",
    "    return gt_bboxes"
   ]
  },
  {
   "cell_type": "code",
   "execution_count": 68,
   "id": "b11d70df",
   "metadata": {},
   "outputs": [],
   "source": [
    "def calculate_metrics(true_boxes, predicted_boxes, iou_threshold=0.9):\n",
    "    TP = 0\n",
    "    FP = 0\n",
    "    FN = 0\n",
    "\n",
    "    for pred_box in predicted_boxes:\n",
    "        max_iou = 0\n",
    "        for true_box in true_boxes:\n",
    "            # Calculate Intersection over Union (IoU)\n",
    "            intersection = max(0, min(pred_box[2], true_box[2]) - max(pred_box[0], true_box[0])) * \\\n",
    "                           max(0, min(pred_box[3], true_box[3]) - max(pred_box[1], true_box[1]))\n",
    "            union = (pred_box[2] - pred_box[0]) * (pred_box[3] - pred_box[1]) + \\\n",
    "                    (true_box[2] - true_box[0]) * (true_box[3] - true_box[1]) - intersection\n",
    "            iou = intersection / union\n",
    "\n",
    "            if iou > max_iou:\n",
    "                max_iou = iou\n",
    "\n",
    "        if max_iou >= iou_threshold:\n",
    "            TP += 1\n",
    "        else:\n",
    "            FP += 1\n",
    "\n",
    "    FN = len(true_boxes) - TP\n",
    "    if FN < 0:\n",
    "        FN = 0\n",
    "   \n",
    "    precision = TP / (TP + FP) if (TP + FP) != 0 else 0\n",
    "    recall = TP / (TP + FN) if (TP + FN) != 0 else 0\n",
    "\n",
    "    return precision, recall"
   ]
  },
  {
   "cell_type": "code",
   "execution_count": 69,
   "id": "206ae12c",
   "metadata": {},
   "outputs": [
    {
     "name": "stderr",
     "output_type": "stream",
     "text": [
      "\r",
      "  0%|          | 0/360 [00:00<?, ?it/s]"
     ]
    },
    {
     "name": "stdout",
     "output_type": "stream",
     "text": [
      "\n",
      "0: 1024x800 6 tables, 307.7ms\n",
      "Speed: 15.7ms preprocess, 307.7ms inference, 0.5ms postprocess per image at shape (1, 3, 1024, 800)\n"
     ]
    },
    {
     "name": "stderr",
     "output_type": "stream",
     "text": [
      "\r",
      "  0%|          | 1/360 [00:00<02:03,  2.90it/s]"
     ]
    },
    {
     "name": "stdout",
     "output_type": "stream",
     "text": [
      "\n",
      "0: 1024x800 (no detections), 230.4ms\n",
      "Speed: 9.4ms preprocess, 230.4ms inference, 0.3ms postprocess per image at shape (1, 3, 1024, 800)\n"
     ]
    },
    {
     "name": "stderr",
     "output_type": "stream",
     "text": [
      "\r",
      "  1%|          | 2/360 [00:00<01:57,  3.04it/s]"
     ]
    },
    {
     "name": "stdout",
     "output_type": "stream",
     "text": [
      "\n",
      "0: 1024x800 2 tables, 233.3ms\n",
      "Speed: 7.1ms preprocess, 233.3ms inference, 0.8ms postprocess per image at shape (1, 3, 1024, 800)\n"
     ]
    },
    {
     "name": "stderr",
     "output_type": "stream",
     "text": [
      "\r",
      "  1%|          | 3/360 [00:00<01:46,  3.35it/s]"
     ]
    },
    {
     "name": "stdout",
     "output_type": "stream",
     "text": [
      "\n",
      "0: 1024x800 3 tables, 250.0ms\n",
      "Speed: 7.6ms preprocess, 250.0ms inference, 0.8ms postprocess per image at shape (1, 3, 1024, 800)\n"
     ]
    },
    {
     "name": "stderr",
     "output_type": "stream",
     "text": [
      "\r",
      "  1%|          | 4/360 [00:01<01:43,  3.45it/s]"
     ]
    },
    {
     "name": "stdout",
     "output_type": "stream",
     "text": [
      "\n",
      "0: 1024x736 2 tables, 236.0ms\n",
      "Speed: 5.9ms preprocess, 236.0ms inference, 0.5ms postprocess per image at shape (1, 3, 1024, 736)\n"
     ]
    },
    {
     "name": "stderr",
     "output_type": "stream",
     "text": [
      "\r",
      "  1%|▏         | 5/360 [00:01<01:37,  3.62it/s]"
     ]
    },
    {
     "name": "stdout",
     "output_type": "stream",
     "text": [
      "\n",
      "0: 1024x800 1 table, 248.6ms\n",
      "Speed: 6.9ms preprocess, 248.6ms inference, 0.5ms postprocess per image at shape (1, 3, 1024, 800)\n"
     ]
    },
    {
     "name": "stderr",
     "output_type": "stream",
     "text": [
      "\r",
      "  2%|▏         | 6/360 [00:01<01:36,  3.68it/s]"
     ]
    },
    {
     "name": "stdout",
     "output_type": "stream",
     "text": [
      "\n",
      "0: 1024x800 2 tables, 245.0ms\n",
      "Speed: 6.6ms preprocess, 245.0ms inference, 0.7ms postprocess per image at shape (1, 3, 1024, 800)\n"
     ]
    },
    {
     "name": "stderr",
     "output_type": "stream",
     "text": [
      "\r",
      "  2%|▏         | 7/360 [00:01<01:34,  3.72it/s]"
     ]
    },
    {
     "name": "stdout",
     "output_type": "stream",
     "text": [
      "\n",
      "0: 1024x800 1 table, 250.4ms\n",
      "Speed: 9.7ms preprocess, 250.4ms inference, 0.5ms postprocess per image at shape (1, 3, 1024, 800)\n"
     ]
    },
    {
     "name": "stderr",
     "output_type": "stream",
     "text": [
      "\r",
      "  2%|▏         | 8/360 [00:02<01:44,  3.37it/s]"
     ]
    },
    {
     "name": "stdout",
     "output_type": "stream",
     "text": [
      "\n",
      "0: 1024x736 1 table, 224.9ms\n",
      "Speed: 5.8ms preprocess, 224.9ms inference, 0.9ms postprocess per image at shape (1, 3, 1024, 736)\n"
     ]
    },
    {
     "name": "stderr",
     "output_type": "stream",
     "text": [
      "\r",
      "  2%|▎         | 9/360 [00:02<01:37,  3.58it/s]"
     ]
    },
    {
     "name": "stdout",
     "output_type": "stream",
     "text": [
      "\n",
      "0: 1024x736 2 tables, 225.7ms\n",
      "Speed: 6.2ms preprocess, 225.7ms inference, 0.9ms postprocess per image at shape (1, 3, 1024, 736)\n"
     ]
    },
    {
     "name": "stderr",
     "output_type": "stream",
     "text": [
      "\r",
      "  3%|▎         | 10/360 [00:02<01:33,  3.74it/s]"
     ]
    },
    {
     "name": "stdout",
     "output_type": "stream",
     "text": [
      "\n",
      "0: 1024x800 1 table, 284.9ms\n",
      "Speed: 9.5ms preprocess, 284.9ms inference, 0.5ms postprocess per image at shape (1, 3, 1024, 800)\n"
     ]
    },
    {
     "name": "stderr",
     "output_type": "stream",
     "text": [
      "\r",
      "  3%|▎         | 11/360 [00:03<01:45,  3.32it/s]"
     ]
    },
    {
     "name": "stdout",
     "output_type": "stream",
     "text": [
      "\n",
      "0: 1024x800 2 tables, 256.5ms\n",
      "Speed: 11.2ms preprocess, 256.5ms inference, 1.1ms postprocess per image at shape (1, 3, 1024, 800)\n"
     ]
    },
    {
     "name": "stderr",
     "output_type": "stream",
     "text": [
      "\r",
      "  3%|▎         | 12/360 [00:03<01:51,  3.11it/s]"
     ]
    },
    {
     "name": "stdout",
     "output_type": "stream",
     "text": [
      "\n",
      "0: 1024x800 3 tables, 282.0ms\n",
      "Speed: 7.0ms preprocess, 282.0ms inference, 0.8ms postprocess per image at shape (1, 3, 1024, 800)\n"
     ]
    },
    {
     "name": "stderr",
     "output_type": "stream",
     "text": [
      "\r",
      "  4%|▎         | 13/360 [00:03<01:50,  3.14it/s]"
     ]
    },
    {
     "name": "stdout",
     "output_type": "stream",
     "text": [
      "\n",
      "0: 1024x768 3 tables, 229.1ms\n",
      "Speed: 7.5ms preprocess, 229.1ms inference, 0.5ms postprocess per image at shape (1, 3, 1024, 768)\n"
     ]
    },
    {
     "name": "stderr",
     "output_type": "stream",
     "text": [
      "\r",
      "  4%|▍         | 14/360 [00:04<01:44,  3.32it/s]"
     ]
    },
    {
     "name": "stdout",
     "output_type": "stream",
     "text": [
      "\n",
      "0: 1024x800 1 table, 241.5ms\n",
      "Speed: 6.8ms preprocess, 241.5ms inference, 4.0ms postprocess per image at shape (1, 3, 1024, 800)\n"
     ]
    },
    {
     "name": "stderr",
     "output_type": "stream",
     "text": [
      "\r",
      "  4%|▍         | 15/360 [00:04<01:41,  3.39it/s]"
     ]
    },
    {
     "name": "stdout",
     "output_type": "stream",
     "text": [
      "\n",
      "0: 1024x736 1 table, 255.8ms\n",
      "Speed: 5.7ms preprocess, 255.8ms inference, 0.6ms postprocess per image at shape (1, 3, 1024, 736)\n"
     ]
    },
    {
     "name": "stderr",
     "output_type": "stream",
     "text": [
      "\r",
      "  4%|▍         | 16/360 [00:04<01:39,  3.47it/s]"
     ]
    },
    {
     "name": "stdout",
     "output_type": "stream",
     "text": [
      "\n",
      "0: 1024x800 2 tables, 270.2ms\n",
      "Speed: 9.1ms preprocess, 270.2ms inference, 0.5ms postprocess per image at shape (1, 3, 1024, 800)\n"
     ]
    },
    {
     "name": "stderr",
     "output_type": "stream",
     "text": [
      "\r",
      "  5%|▍         | 17/360 [00:04<01:40,  3.42it/s]"
     ]
    },
    {
     "name": "stdout",
     "output_type": "stream",
     "text": [
      "\n",
      "0: 1024x672 1 table, 199.1ms\n",
      "Speed: 12.1ms preprocess, 199.1ms inference, 0.5ms postprocess per image at shape (1, 3, 1024, 672)\n"
     ]
    },
    {
     "name": "stderr",
     "output_type": "stream",
     "text": [
      "\r",
      "  5%|▌         | 18/360 [00:05<01:35,  3.57it/s]"
     ]
    },
    {
     "name": "stdout",
     "output_type": "stream",
     "text": [
      "\n",
      "0: 1024x736 1 table, 233.8ms\n",
      "Speed: 6.9ms preprocess, 233.8ms inference, 4.7ms postprocess per image at shape (1, 3, 1024, 736)\n"
     ]
    },
    {
     "name": "stderr",
     "output_type": "stream",
     "text": [
      "\r",
      "  5%|▌         | 19/360 [00:05<01:32,  3.67it/s]"
     ]
    },
    {
     "name": "stdout",
     "output_type": "stream",
     "text": [
      "\n",
      "0: 1024x736 3 tables, 233.7ms\n",
      "Speed: 13.9ms preprocess, 233.7ms inference, 0.5ms postprocess per image at shape (1, 3, 1024, 736)\n"
     ]
    },
    {
     "name": "stderr",
     "output_type": "stream",
     "text": [
      "\r",
      "  6%|▌         | 20/360 [00:05<01:31,  3.73it/s]"
     ]
    },
    {
     "name": "stdout",
     "output_type": "stream",
     "text": [
      "\n",
      "0: 1024x800 3 tables, 256.3ms\n",
      "Speed: 8.6ms preprocess, 256.3ms inference, 0.5ms postprocess per image at shape (1, 3, 1024, 800)\n"
     ]
    },
    {
     "name": "stderr",
     "output_type": "stream",
     "text": [
      "\r",
      "  6%|▌         | 21/360 [00:06<01:33,  3.63it/s]"
     ]
    },
    {
     "name": "stdout",
     "output_type": "stream",
     "text": [
      "\n",
      "0: 1024x736 1 table, 230.1ms\n",
      "Speed: 8.9ms preprocess, 230.1ms inference, 0.5ms postprocess per image at shape (1, 3, 1024, 736)\n"
     ]
    },
    {
     "name": "stderr",
     "output_type": "stream",
     "text": [
      "\r",
      "  6%|▌         | 22/360 [00:06<01:37,  3.45it/s]"
     ]
    },
    {
     "name": "stdout",
     "output_type": "stream",
     "text": [
      "\n",
      "0: 1024x800 2 tables, 247.8ms\n",
      "Speed: 7.1ms preprocess, 247.8ms inference, 0.8ms postprocess per image at shape (1, 3, 1024, 800)\n"
     ]
    },
    {
     "name": "stderr",
     "output_type": "stream",
     "text": [
      "\r",
      "  6%|▋         | 23/360 [00:06<01:36,  3.48it/s]"
     ]
    },
    {
     "name": "stdout",
     "output_type": "stream",
     "text": [
      "\n",
      "0: 1024x736 1 table, 242.8ms\n",
      "Speed: 7.3ms preprocess, 242.8ms inference, 1.0ms postprocess per image at shape (1, 3, 1024, 736)\n"
     ]
    },
    {
     "name": "stderr",
     "output_type": "stream",
     "text": [
      "\r",
      "  7%|▋         | 24/360 [00:06<01:33,  3.58it/s]"
     ]
    },
    {
     "name": "stdout",
     "output_type": "stream",
     "text": [
      "\n",
      "0: 1024x800 1 table, 368.2ms\n",
      "Speed: 8.8ms preprocess, 368.2ms inference, 0.8ms postprocess per image at shape (1, 3, 1024, 800)\n"
     ]
    },
    {
     "name": "stderr",
     "output_type": "stream",
     "text": [
      "\r",
      "  7%|▋         | 25/360 [00:07<01:45,  3.16it/s]"
     ]
    },
    {
     "name": "stdout",
     "output_type": "stream",
     "text": [
      "\n",
      "0: 1024x800 2 tables, 316.6ms\n",
      "Speed: 12.5ms preprocess, 316.6ms inference, 0.6ms postprocess per image at shape (1, 3, 1024, 800)\n"
     ]
    },
    {
     "name": "stderr",
     "output_type": "stream",
     "text": [
      "\r",
      "  7%|▋         | 26/360 [00:07<01:55,  2.90it/s]"
     ]
    },
    {
     "name": "stdout",
     "output_type": "stream",
     "text": [
      "\n",
      "0: 1024x800 1 table, 272.3ms\n",
      "Speed: 8.0ms preprocess, 272.3ms inference, 1.0ms postprocess per image at shape (1, 3, 1024, 800)\n"
     ]
    },
    {
     "name": "stderr",
     "output_type": "stream",
     "text": [
      "\r",
      "  8%|▊         | 27/360 [00:08<01:50,  3.01it/s]"
     ]
    },
    {
     "name": "stdout",
     "output_type": "stream",
     "text": [
      "\n",
      "0: 1024x800 2 tables, 263.6ms\n",
      "Speed: 6.9ms preprocess, 263.6ms inference, 0.5ms postprocess per image at shape (1, 3, 1024, 800)\n"
     ]
    },
    {
     "name": "stderr",
     "output_type": "stream",
     "text": [
      "\r",
      "  8%|▊         | 28/360 [00:08<01:46,  3.12it/s]"
     ]
    },
    {
     "name": "stdout",
     "output_type": "stream",
     "text": [
      "\n",
      "0: 1024x800 2 tables, 271.0ms\n",
      "Speed: 8.5ms preprocess, 271.0ms inference, 0.5ms postprocess per image at shape (1, 3, 1024, 800)\n"
     ]
    },
    {
     "name": "stderr",
     "output_type": "stream",
     "text": [
      "\r",
      "  8%|▊         | 29/360 [00:08<01:49,  3.02it/s]"
     ]
    },
    {
     "name": "stdout",
     "output_type": "stream",
     "text": [
      "\n",
      "0: 1024x800 1 table, 259.5ms\n",
      "Speed: 9.2ms preprocess, 259.5ms inference, 1.4ms postprocess per image at shape (1, 3, 1024, 800)\n"
     ]
    },
    {
     "name": "stderr",
     "output_type": "stream",
     "text": [
      "\r",
      "  8%|▊         | 30/360 [00:08<01:45,  3.13it/s]"
     ]
    },
    {
     "name": "stdout",
     "output_type": "stream",
     "text": [
      "\n",
      "0: 1024x800 1 table, 257.9ms\n",
      "Speed: 6.5ms preprocess, 257.9ms inference, 0.5ms postprocess per image at shape (1, 3, 1024, 800)\n"
     ]
    },
    {
     "name": "stderr",
     "output_type": "stream",
     "text": [
      "\r",
      "  9%|▊         | 31/360 [00:09<01:41,  3.24it/s]"
     ]
    },
    {
     "name": "stdout",
     "output_type": "stream",
     "text": [
      "\n",
      "0: 1024x800 1 table, 355.7ms\n",
      "Speed: 7.3ms preprocess, 355.7ms inference, 0.6ms postprocess per image at shape (1, 3, 1024, 800)\n"
     ]
    },
    {
     "name": "stderr",
     "output_type": "stream",
     "text": [
      "\r",
      "  9%|▉         | 32/360 [00:09<01:47,  3.06it/s]"
     ]
    },
    {
     "name": "stdout",
     "output_type": "stream",
     "text": [
      "\n",
      "0: 1024x800 2 tables, 254.5ms\n",
      "Speed: 6.8ms preprocess, 254.5ms inference, 0.5ms postprocess per image at shape (1, 3, 1024, 800)\n"
     ]
    },
    {
     "name": "stderr",
     "output_type": "stream",
     "text": [
      "\r",
      "  9%|▉         | 33/360 [00:09<01:42,  3.17it/s]"
     ]
    },
    {
     "name": "stdout",
     "output_type": "stream",
     "text": [
      "\n",
      "0: 1024x736 4 tables, 236.3ms\n",
      "Speed: 8.7ms preprocess, 236.3ms inference, 0.5ms postprocess per image at shape (1, 3, 1024, 736)\n"
     ]
    },
    {
     "name": "stderr",
     "output_type": "stream",
     "text": [
      "\r",
      "  9%|▉         | 34/360 [00:10<01:44,  3.13it/s]"
     ]
    },
    {
     "name": "stdout",
     "output_type": "stream",
     "text": [
      "\n",
      "0: 1024x800 1 table, 253.1ms\n",
      "Speed: 5.3ms preprocess, 253.1ms inference, 1.9ms postprocess per image at shape (1, 3, 1024, 800)\n"
     ]
    },
    {
     "name": "stderr",
     "output_type": "stream",
     "text": [
      "\r",
      " 10%|▉         | 35/360 [00:10<01:38,  3.29it/s]"
     ]
    },
    {
     "name": "stdout",
     "output_type": "stream",
     "text": [
      "\n",
      "0: 1024x736 1 table, 238.1ms\n",
      "Speed: 6.9ms preprocess, 238.1ms inference, 0.5ms postprocess per image at shape (1, 3, 1024, 736)\n"
     ]
    },
    {
     "name": "stderr",
     "output_type": "stream",
     "text": [
      "\r",
      " 10%|█         | 36/360 [00:10<01:33,  3.45it/s]"
     ]
    },
    {
     "name": "stdout",
     "output_type": "stream",
     "text": [
      "\n",
      "0: 1024x800 2 tables, 248.8ms\n",
      "Speed: 8.9ms preprocess, 248.8ms inference, 0.5ms postprocess per image at shape (1, 3, 1024, 800)\n"
     ]
    },
    {
     "name": "stderr",
     "output_type": "stream",
     "text": [
      "\r",
      " 10%|█         | 37/360 [00:11<01:38,  3.29it/s]"
     ]
    },
    {
     "name": "stdout",
     "output_type": "stream",
     "text": [
      "\n",
      "0: 1024x768 3 tables, 248.1ms\n",
      "Speed: 6.8ms preprocess, 248.1ms inference, 0.9ms postprocess per image at shape (1, 3, 1024, 768)\n"
     ]
    },
    {
     "name": "stderr",
     "output_type": "stream",
     "text": [
      "\r",
      " 11%|█         | 38/360 [00:11<01:35,  3.37it/s]"
     ]
    },
    {
     "name": "stdout",
     "output_type": "stream",
     "text": [
      "\n",
      "0: 1024x736 1 table, 239.7ms\n",
      "Speed: 5.5ms preprocess, 239.7ms inference, 0.6ms postprocess per image at shape (1, 3, 1024, 736)\n"
     ]
    },
    {
     "name": "stderr",
     "output_type": "stream",
     "text": [
      "\r",
      " 11%|█         | 39/360 [00:11<01:31,  3.51it/s]"
     ]
    },
    {
     "name": "stdout",
     "output_type": "stream",
     "text": [
      "\n",
      "0: 1024x800 1 table, 250.7ms\n",
      "Speed: 5.8ms preprocess, 250.7ms inference, 0.5ms postprocess per image at shape (1, 3, 1024, 800)\n"
     ]
    },
    {
     "name": "stderr",
     "output_type": "stream",
     "text": [
      "\r",
      " 11%|█         | 40/360 [00:11<01:29,  3.56it/s]"
     ]
    },
    {
     "name": "stdout",
     "output_type": "stream",
     "text": [
      "\n",
      "0: 1024x800 1 table, 253.0ms\n",
      "Speed: 9.3ms preprocess, 253.0ms inference, 0.7ms postprocess per image at shape (1, 3, 1024, 800)\n"
     ]
    },
    {
     "name": "stderr",
     "output_type": "stream",
     "text": [
      "\r",
      " 11%|█▏        | 41/360 [00:12<01:35,  3.35it/s]"
     ]
    },
    {
     "name": "stdout",
     "output_type": "stream",
     "text": [
      "\n",
      "0: 1024x768 2 tables, 240.8ms\n",
      "Speed: 5.2ms preprocess, 240.8ms inference, 0.8ms postprocess per image at shape (1, 3, 1024, 768)\n"
     ]
    },
    {
     "name": "stderr",
     "output_type": "stream",
     "text": [
      "\r",
      " 12%|█▏        | 42/360 [00:12<01:30,  3.50it/s]"
     ]
    },
    {
     "name": "stdout",
     "output_type": "stream",
     "text": [
      "\n",
      "0: 1024x672 2 tables, 215.9ms\n",
      "Speed: 7.1ms preprocess, 215.9ms inference, 0.5ms postprocess per image at shape (1, 3, 1024, 672)\n"
     ]
    },
    {
     "name": "stderr",
     "output_type": "stream",
     "text": [
      "\r",
      " 12%|█▏        | 43/360 [00:12<01:28,  3.59it/s]"
     ]
    },
    {
     "name": "stdout",
     "output_type": "stream",
     "text": [
      "\n",
      "0: 1024x800 1 table, 261.3ms\n",
      "Speed: 10.1ms preprocess, 261.3ms inference, 0.5ms postprocess per image at shape (1, 3, 1024, 800)\n"
     ]
    },
    {
     "name": "stderr",
     "output_type": "stream",
     "text": [
      "\r",
      " 12%|█▏        | 44/360 [00:13<01:34,  3.33it/s]"
     ]
    },
    {
     "name": "stdout",
     "output_type": "stream",
     "text": [
      "\n",
      "0: 1024x800 2 tables, 261.6ms\n",
      "Speed: 7.2ms preprocess, 261.6ms inference, 0.8ms postprocess per image at shape (1, 3, 1024, 800)\n"
     ]
    },
    {
     "name": "stderr",
     "output_type": "stream",
     "text": [
      "\r",
      " 12%|█▎        | 45/360 [00:13<01:33,  3.37it/s]"
     ]
    },
    {
     "name": "stdout",
     "output_type": "stream",
     "text": [
      "\n",
      "0: 1024x736 1 table, 236.8ms\n",
      "Speed: 7.6ms preprocess, 236.8ms inference, 0.6ms postprocess per image at shape (1, 3, 1024, 736)\n"
     ]
    },
    {
     "name": "stderr",
     "output_type": "stream",
     "text": [
      "\r",
      " 13%|█▎        | 46/360 [00:13<01:31,  3.42it/s]"
     ]
    },
    {
     "name": "stdout",
     "output_type": "stream",
     "text": [
      "\n",
      "0: 1024x800 1 table, 259.1ms\n",
      "Speed: 9.0ms preprocess, 259.1ms inference, 3.9ms postprocess per image at shape (1, 3, 1024, 800)\n"
     ]
    },
    {
     "name": "stderr",
     "output_type": "stream",
     "text": [
      "\r",
      " 13%|█▎        | 47/360 [00:14<01:37,  3.21it/s]"
     ]
    },
    {
     "name": "stdout",
     "output_type": "stream",
     "text": [
      "\n",
      "0: 1024x736 1 table, 232.4ms\n",
      "Speed: 5.6ms preprocess, 232.4ms inference, 1.2ms postprocess per image at shape (1, 3, 1024, 736)\n"
     ]
    },
    {
     "name": "stderr",
     "output_type": "stream",
     "text": [
      "\r",
      " 13%|█▎        | 48/360 [00:14<01:31,  3.42it/s]"
     ]
    },
    {
     "name": "stdout",
     "output_type": "stream",
     "text": [
      "\n",
      "0: 1024x768 1 table, 253.5ms\n",
      "Speed: 5.8ms preprocess, 253.5ms inference, 0.6ms postprocess per image at shape (1, 3, 1024, 768)\n"
     ]
    },
    {
     "name": "stderr",
     "output_type": "stream",
     "text": [
      "\r",
      " 14%|█▎        | 49/360 [00:14<01:28,  3.50it/s]"
     ]
    },
    {
     "name": "stdout",
     "output_type": "stream",
     "text": [
      "\n",
      "0: 1024x768 1 table, 251.3ms\n",
      "Speed: 7.3ms preprocess, 251.3ms inference, 0.6ms postprocess per image at shape (1, 3, 1024, 768)\n"
     ]
    },
    {
     "name": "stderr",
     "output_type": "stream",
     "text": [
      "\r",
      " 14%|█▍        | 50/360 [00:14<01:28,  3.50it/s]"
     ]
    },
    {
     "name": "stdout",
     "output_type": "stream",
     "text": [
      "\n",
      "0: 1024x800 2 tables, 266.2ms\n",
      "Speed: 9.9ms preprocess, 266.2ms inference, 1.0ms postprocess per image at shape (1, 3, 1024, 800)\n"
     ]
    },
    {
     "name": "stderr",
     "output_type": "stream",
     "text": [
      "\r",
      " 14%|█▍        | 51/360 [00:15<01:34,  3.27it/s]"
     ]
    },
    {
     "name": "stdout",
     "output_type": "stream",
     "text": [
      "\n",
      "0: 1024x800 1 table, 255.3ms\n",
      "Speed: 5.8ms preprocess, 255.3ms inference, 0.9ms postprocess per image at shape (1, 3, 1024, 800)\n"
     ]
    },
    {
     "name": "stderr",
     "output_type": "stream",
     "text": [
      "\r",
      " 14%|█▍        | 52/360 [00:15<01:30,  3.39it/s]"
     ]
    },
    {
     "name": "stdout",
     "output_type": "stream",
     "text": [
      "\n",
      "0: 1024x768 2 tables, 261.7ms\n",
      "Speed: 6.9ms preprocess, 261.7ms inference, 0.5ms postprocess per image at shape (1, 3, 1024, 768)\n"
     ]
    },
    {
     "name": "stderr",
     "output_type": "stream",
     "text": [
      "\r",
      " 15%|█▍        | 53/360 [00:15<01:31,  3.36it/s]"
     ]
    },
    {
     "name": "stdout",
     "output_type": "stream",
     "text": [
      "\n",
      "0: 1024x800 1 table, 264.3ms\n",
      "Speed: 8.7ms preprocess, 264.3ms inference, 0.5ms postprocess per image at shape (1, 3, 1024, 800)\n"
     ]
    },
    {
     "name": "stderr",
     "output_type": "stream",
     "text": [
      "\r",
      " 15%|█▌        | 54/360 [00:16<01:35,  3.19it/s]"
     ]
    },
    {
     "name": "stdout",
     "output_type": "stream",
     "text": [
      "\n",
      "0: 1024x800 2 tables, 254.0ms\n",
      "Speed: 8.3ms preprocess, 254.0ms inference, 1.1ms postprocess per image at shape (1, 3, 1024, 800)\n"
     ]
    },
    {
     "name": "stderr",
     "output_type": "stream",
     "text": [
      "\r",
      " 15%|█▌        | 55/360 [00:16<01:38,  3.10it/s]"
     ]
    },
    {
     "name": "stdout",
     "output_type": "stream",
     "text": [
      "\n",
      "0: 1024x768 3 tables, 251.8ms\n",
      "Speed: 5.9ms preprocess, 251.8ms inference, 0.9ms postprocess per image at shape (1, 3, 1024, 768)\n"
     ]
    },
    {
     "name": "stderr",
     "output_type": "stream",
     "text": [
      "\r",
      " 16%|█▌        | 56/360 [00:16<01:32,  3.27it/s]"
     ]
    },
    {
     "name": "stdout",
     "output_type": "stream",
     "text": [
      "\n",
      "0: 1024x800 2 tables, 260.7ms\n",
      "Speed: 9.0ms preprocess, 260.7ms inference, 0.6ms postprocess per image at shape (1, 3, 1024, 800)\n"
     ]
    },
    {
     "name": "stderr",
     "output_type": "stream",
     "text": [
      "\r",
      " 16%|█▌        | 57/360 [00:17<01:36,  3.13it/s]"
     ]
    },
    {
     "name": "stdout",
     "output_type": "stream",
     "text": [
      "\n",
      "0: 1024x800 1 table, 259.6ms\n",
      "Speed: 6.8ms preprocess, 259.6ms inference, 0.9ms postprocess per image at shape (1, 3, 1024, 800)\n"
     ]
    },
    {
     "name": "stderr",
     "output_type": "stream",
     "text": [
      "\r",
      " 16%|█▌        | 58/360 [00:17<01:33,  3.23it/s]"
     ]
    },
    {
     "name": "stdout",
     "output_type": "stream",
     "text": [
      "\n",
      "0: 1024x800 2 tables, 268.2ms\n",
      "Speed: 8.2ms preprocess, 268.2ms inference, 0.5ms postprocess per image at shape (1, 3, 1024, 800)\n"
     ]
    },
    {
     "name": "stderr",
     "output_type": "stream",
     "text": [
      "\r",
      " 16%|█▋        | 59/360 [00:17<01:32,  3.26it/s]"
     ]
    },
    {
     "name": "stdout",
     "output_type": "stream",
     "text": [
      "\n",
      "0: 1024x800 1 table, 265.1ms\n",
      "Speed: 8.1ms preprocess, 265.1ms inference, 0.6ms postprocess per image at shape (1, 3, 1024, 800)\n"
     ]
    },
    {
     "name": "stderr",
     "output_type": "stream",
     "text": [
      "\r",
      " 17%|█▋        | 60/360 [00:17<01:30,  3.31it/s]"
     ]
    },
    {
     "name": "stdout",
     "output_type": "stream",
     "text": [
      "\n",
      "0: 1024x736 1 table, 238.9ms\n",
      "Speed: 6.1ms preprocess, 238.9ms inference, 0.5ms postprocess per image at shape (1, 3, 1024, 736)\n"
     ]
    },
    {
     "name": "stderr",
     "output_type": "stream",
     "text": [
      "\r",
      " 17%|█▋        | 61/360 [00:18<01:26,  3.47it/s]"
     ]
    },
    {
     "name": "stdout",
     "output_type": "stream",
     "text": [
      "\n",
      "0: 1024x736 1 table, 235.4ms\n",
      "Speed: 20.7ms preprocess, 235.4ms inference, 0.6ms postprocess per image at shape (1, 3, 1024, 736)\n"
     ]
    },
    {
     "name": "stderr",
     "output_type": "stream",
     "text": [
      "\r",
      " 17%|█▋        | 62/360 [00:18<01:23,  3.55it/s]"
     ]
    },
    {
     "name": "stdout",
     "output_type": "stream",
     "text": [
      "\n",
      "0: 1024x800 2 tables, 261.0ms\n",
      "Speed: 8.0ms preprocess, 261.0ms inference, 1.0ms postprocess per image at shape (1, 3, 1024, 800)\n"
     ]
    },
    {
     "name": "stderr",
     "output_type": "stream",
     "text": [
      "\r",
      " 18%|█▊        | 63/360 [00:18<01:23,  3.55it/s]"
     ]
    },
    {
     "name": "stdout",
     "output_type": "stream",
     "text": [
      "\n",
      "0: 1024x736 1 table, 240.7ms\n",
      "Speed: 6.6ms preprocess, 240.7ms inference, 1.1ms postprocess per image at shape (1, 3, 1024, 736)\n"
     ]
    },
    {
     "name": "stderr",
     "output_type": "stream",
     "text": [
      "\r",
      " 18%|█▊        | 64/360 [00:19<01:21,  3.64it/s]"
     ]
    },
    {
     "name": "stdout",
     "output_type": "stream",
     "text": [
      "\n",
      "0: 1024x800 2 tables, 270.5ms\n",
      "Speed: 8.6ms preprocess, 270.5ms inference, 1.1ms postprocess per image at shape (1, 3, 1024, 800)\n"
     ]
    },
    {
     "name": "stderr",
     "output_type": "stream",
     "text": [
      "\r",
      " 18%|█▊        | 65/360 [00:19<01:24,  3.50it/s]"
     ]
    },
    {
     "name": "stdout",
     "output_type": "stream",
     "text": [
      "\n",
      "0: 1024x800 3 tables, 270.4ms\n",
      "Speed: 7.0ms preprocess, 270.4ms inference, 0.6ms postprocess per image at shape (1, 3, 1024, 800)\n"
     ]
    },
    {
     "name": "stderr",
     "output_type": "stream",
     "text": [
      "\r",
      " 18%|█▊        | 66/360 [00:19<01:25,  3.45it/s]"
     ]
    },
    {
     "name": "stdout",
     "output_type": "stream",
     "text": [
      "\n",
      "0: 1024x800 1 table, 266.3ms\n",
      "Speed: 9.3ms preprocess, 266.3ms inference, 0.5ms postprocess per image at shape (1, 3, 1024, 800)\n"
     ]
    },
    {
     "name": "stderr",
     "output_type": "stream",
     "text": [
      "\r",
      " 19%|█▊        | 67/360 [00:19<01:30,  3.23it/s]"
     ]
    },
    {
     "name": "stdout",
     "output_type": "stream",
     "text": [
      "\n",
      "0: 1024x800 1 table, 259.6ms\n",
      "Speed: 10.2ms preprocess, 259.6ms inference, 0.8ms postprocess per image at shape (1, 3, 1024, 800)\n"
     ]
    },
    {
     "name": "stderr",
     "output_type": "stream",
     "text": [
      "\r",
      " 19%|█▉        | 68/360 [00:20<01:33,  3.12it/s]"
     ]
    },
    {
     "name": "stdout",
     "output_type": "stream",
     "text": [
      "\n",
      "0: 1024x736 3 tables, 236.5ms\n",
      "Speed: 7.6ms preprocess, 236.5ms inference, 1.3ms postprocess per image at shape (1, 3, 1024, 736)\n"
     ]
    },
    {
     "name": "stderr",
     "output_type": "stream",
     "text": [
      "\r",
      " 19%|█▉        | 69/360 [00:20<01:33,  3.10it/s]"
     ]
    },
    {
     "name": "stdout",
     "output_type": "stream",
     "text": [
      "\n",
      "0: 1024x768 1 table, 259.2ms\n",
      "Speed: 6.1ms preprocess, 259.2ms inference, 0.9ms postprocess per image at shape (1, 3, 1024, 768)\n"
     ]
    },
    {
     "name": "stderr",
     "output_type": "stream",
     "text": [
      "\r",
      " 19%|█▉        | 70/360 [00:20<01:31,  3.18it/s]"
     ]
    },
    {
     "name": "stdout",
     "output_type": "stream",
     "text": [
      "\n",
      "0: 1024x800 1 table, 273.9ms\n",
      "Speed: 9.2ms preprocess, 273.9ms inference, 0.5ms postprocess per image at shape (1, 3, 1024, 800)\n"
     ]
    },
    {
     "name": "stderr",
     "output_type": "stream",
     "text": [
      "\r",
      " 20%|█▉        | 71/360 [00:21<01:34,  3.06it/s]"
     ]
    },
    {
     "name": "stdout",
     "output_type": "stream",
     "text": [
      "\n",
      "0: 1024x800 1 table, 258.2ms\n",
      "Speed: 5.9ms preprocess, 258.2ms inference, 1.0ms postprocess per image at shape (1, 3, 1024, 800)\n"
     ]
    },
    {
     "name": "stderr",
     "output_type": "stream",
     "text": [
      "\r",
      " 20%|██        | 72/360 [00:21<01:29,  3.21it/s]"
     ]
    },
    {
     "name": "stdout",
     "output_type": "stream",
     "text": [
      "\n",
      "0: 1024x736 1 table, 240.0ms\n",
      "Speed: 5.0ms preprocess, 240.0ms inference, 0.5ms postprocess per image at shape (1, 3, 1024, 736)\n"
     ]
    },
    {
     "name": "stderr",
     "output_type": "stream",
     "text": [
      "\r",
      " 20%|██        | 73/360 [00:21<01:24,  3.40it/s]"
     ]
    },
    {
     "name": "stdout",
     "output_type": "stream",
     "text": [
      "\n",
      "0: 1024x736 3 tables, 239.7ms\n",
      "Speed: 6.5ms preprocess, 239.7ms inference, 0.5ms postprocess per image at shape (1, 3, 1024, 736)\n"
     ]
    },
    {
     "name": "stderr",
     "output_type": "stream",
     "text": [
      "\r",
      " 21%|██        | 74/360 [00:22<01:20,  3.53it/s]"
     ]
    },
    {
     "name": "stdout",
     "output_type": "stream",
     "text": [
      "\n",
      "0: 1024x800 2 tables, 261.6ms\n",
      "Speed: 5.7ms preprocess, 261.6ms inference, 0.6ms postprocess per image at shape (1, 3, 1024, 800)\n"
     ]
    },
    {
     "name": "stderr",
     "output_type": "stream",
     "text": [
      "\r",
      " 21%|██        | 75/360 [00:22<01:20,  3.55it/s]"
     ]
    },
    {
     "name": "stdout",
     "output_type": "stream",
     "text": [
      "\n",
      "0: 1024x736 1 table, 239.0ms\n",
      "Speed: 5.1ms preprocess, 239.0ms inference, 0.5ms postprocess per image at shape (1, 3, 1024, 736)\n"
     ]
    },
    {
     "name": "stderr",
     "output_type": "stream",
     "text": [
      "\r",
      " 21%|██        | 76/360 [00:22<01:17,  3.65it/s]"
     ]
    },
    {
     "name": "stdout",
     "output_type": "stream",
     "text": [
      "\n",
      "0: 1024x768 3 tables, 262.5ms\n",
      "Speed: 7.4ms preprocess, 262.5ms inference, 0.7ms postprocess per image at shape (1, 3, 1024, 768)\n"
     ]
    },
    {
     "name": "stderr",
     "output_type": "stream",
     "text": [
      "\r",
      " 21%|██▏       | 77/360 [00:22<01:19,  3.55it/s]"
     ]
    },
    {
     "name": "stdout",
     "output_type": "stream",
     "text": [
      "\n",
      "0: 1024x800 2 tables, 265.2ms\n",
      "Speed: 9.3ms preprocess, 265.2ms inference, 0.8ms postprocess per image at shape (1, 3, 1024, 800)\n"
     ]
    },
    {
     "name": "stderr",
     "output_type": "stream",
     "text": [
      "\r",
      " 22%|██▏       | 78/360 [00:23<01:25,  3.29it/s]"
     ]
    },
    {
     "name": "stdout",
     "output_type": "stream",
     "text": [
      "\n",
      "0: 1024x800 1 table, 268.8ms\n",
      "Speed: 8.7ms preprocess, 268.8ms inference, 1.5ms postprocess per image at shape (1, 3, 1024, 800)\n"
     ]
    },
    {
     "name": "stderr",
     "output_type": "stream",
     "text": [
      "\r",
      " 22%|██▏       | 79/360 [00:23<01:25,  3.27it/s]"
     ]
    },
    {
     "name": "stdout",
     "output_type": "stream",
     "text": [
      "\n",
      "0: 1024x800 4 tables, 271.7ms\n",
      "Speed: 6.9ms preprocess, 271.7ms inference, 1.0ms postprocess per image at shape (1, 3, 1024, 800)\n"
     ]
    },
    {
     "name": "stderr",
     "output_type": "stream",
     "text": [
      "\r",
      " 22%|██▏       | 80/360 [00:23<01:24,  3.31it/s]"
     ]
    },
    {
     "name": "stdout",
     "output_type": "stream",
     "text": [
      "\n",
      "0: 1024x736 2 tables, 239.1ms\n",
      "Speed: 7.6ms preprocess, 239.1ms inference, 1.1ms postprocess per image at shape (1, 3, 1024, 736)\n"
     ]
    },
    {
     "name": "stderr",
     "output_type": "stream",
     "text": [
      "\r",
      " 22%|██▎       | 81/360 [00:24<01:20,  3.45it/s]"
     ]
    },
    {
     "name": "stdout",
     "output_type": "stream",
     "text": [
      "\n",
      "0: 1024x800 2 tables, 268.0ms\n",
      "Speed: 6.7ms preprocess, 268.0ms inference, 0.7ms postprocess per image at shape (1, 3, 1024, 800)\n"
     ]
    },
    {
     "name": "stderr",
     "output_type": "stream",
     "text": [
      "\r",
      " 23%|██▎       | 82/360 [00:24<01:21,  3.41it/s]"
     ]
    },
    {
     "name": "stdout",
     "output_type": "stream",
     "text": [
      "\n",
      "0: 1024x736 1 table, 252.3ms\n",
      "Speed: 11.7ms preprocess, 252.3ms inference, 0.5ms postprocess per image at shape (1, 3, 1024, 736)\n"
     ]
    },
    {
     "name": "stderr",
     "output_type": "stream",
     "text": [
      "\r",
      " 23%|██▎       | 83/360 [00:24<01:19,  3.48it/s]"
     ]
    },
    {
     "name": "stdout",
     "output_type": "stream",
     "text": [
      "\n",
      "0: 1024x736 2 tables, 244.8ms\n",
      "Speed: 6.2ms preprocess, 244.8ms inference, 0.6ms postprocess per image at shape (1, 3, 1024, 736)\n"
     ]
    },
    {
     "name": "stderr",
     "output_type": "stream",
     "text": [
      "\r",
      " 23%|██▎       | 84/360 [00:24<01:17,  3.57it/s]"
     ]
    },
    {
     "name": "stdout",
     "output_type": "stream",
     "text": [
      "\n",
      "0: 1024x768 2 tables, 256.8ms\n",
      "Speed: 6.2ms preprocess, 256.8ms inference, 0.5ms postprocess per image at shape (1, 3, 1024, 768)\n"
     ]
    },
    {
     "name": "stderr",
     "output_type": "stream",
     "text": [
      "\r",
      " 24%|██▎       | 85/360 [00:25<01:16,  3.61it/s]"
     ]
    },
    {
     "name": "stdout",
     "output_type": "stream",
     "text": [
      "\n",
      "0: 1024x736 1 table, 243.5ms\n",
      "Speed: 7.3ms preprocess, 243.5ms inference, 1.1ms postprocess per image at shape (1, 3, 1024, 736)\n"
     ]
    },
    {
     "name": "stderr",
     "output_type": "stream",
     "text": [
      "\r",
      " 24%|██▍       | 86/360 [00:25<01:14,  3.66it/s]"
     ]
    },
    {
     "name": "stdout",
     "output_type": "stream",
     "text": [
      "\n",
      "0: 1024x800 1 table, 265.2ms\n",
      "Speed: 7.2ms preprocess, 265.2ms inference, 0.8ms postprocess per image at shape (1, 3, 1024, 800)\n"
     ]
    },
    {
     "name": "stderr",
     "output_type": "stream",
     "text": [
      "\r",
      " 24%|██▍       | 87/360 [00:25<01:15,  3.62it/s]"
     ]
    },
    {
     "name": "stdout",
     "output_type": "stream",
     "text": [
      "\n",
      "0: 1024x672 1 table, 228.1ms\n",
      "Speed: 6.3ms preprocess, 228.1ms inference, 0.8ms postprocess per image at shape (1, 3, 1024, 672)\n"
     ]
    },
    {
     "name": "stderr",
     "output_type": "stream",
     "text": [
      "\r",
      " 24%|██▍       | 88/360 [00:26<01:15,  3.62it/s]"
     ]
    },
    {
     "name": "stdout",
     "output_type": "stream",
     "text": [
      "\n",
      "0: 1024x800 1 table, 273.4ms\n",
      "Speed: 8.2ms preprocess, 273.4ms inference, 1.1ms postprocess per image at shape (1, 3, 1024, 800)\n"
     ]
    },
    {
     "name": "stderr",
     "output_type": "stream",
     "text": [
      "\r",
      " 25%|██▍       | 89/360 [00:26<01:22,  3.27it/s]"
     ]
    },
    {
     "name": "stdout",
     "output_type": "stream",
     "text": [
      "\n",
      "0: 1024x800 3 tables, 275.3ms\n",
      "Speed: 6.7ms preprocess, 275.3ms inference, 1.7ms postprocess per image at shape (1, 3, 1024, 800)\n"
     ]
    },
    {
     "name": "stderr",
     "output_type": "stream",
     "text": [
      "\r",
      " 25%|██▌       | 90/360 [00:26<01:23,  3.24it/s]"
     ]
    },
    {
     "name": "stdout",
     "output_type": "stream",
     "text": [
      "\n",
      "0: 1024x768 2 tables, 262.8ms\n",
      "Speed: 6.7ms preprocess, 262.8ms inference, 0.5ms postprocess per image at shape (1, 3, 1024, 768)\n"
     ]
    },
    {
     "name": "stderr",
     "output_type": "stream",
     "text": [
      "\r",
      " 25%|██▌       | 91/360 [00:27<01:21,  3.29it/s]"
     ]
    },
    {
     "name": "stdout",
     "output_type": "stream",
     "text": [
      "\n",
      "0: 1024x768 1 table, 258.5ms\n",
      "Speed: 5.1ms preprocess, 258.5ms inference, 4.2ms postprocess per image at shape (1, 3, 1024, 768)\n"
     ]
    },
    {
     "name": "stderr",
     "output_type": "stream",
     "text": [
      "\r",
      " 26%|██▌       | 92/360 [00:27<01:19,  3.38it/s]"
     ]
    },
    {
     "name": "stdout",
     "output_type": "stream",
     "text": [
      "\n",
      "0: 1024x800 2 tables, 263.6ms\n",
      "Speed: 9.8ms preprocess, 263.6ms inference, 0.5ms postprocess per image at shape (1, 3, 1024, 800)\n"
     ]
    },
    {
     "name": "stderr",
     "output_type": "stream",
     "text": [
      "\r",
      " 26%|██▌       | 93/360 [00:27<01:23,  3.20it/s]"
     ]
    },
    {
     "name": "stdout",
     "output_type": "stream",
     "text": [
      "\n",
      "0: 1024x800 1 table, 297.8ms\n",
      "Speed: 5.8ms preprocess, 297.8ms inference, 1.3ms postprocess per image at shape (1, 3, 1024, 800)\n"
     ]
    },
    {
     "name": "stderr",
     "output_type": "stream",
     "text": [
      "\r",
      " 26%|██▌       | 94/360 [00:28<01:23,  3.19it/s]"
     ]
    },
    {
     "name": "stdout",
     "output_type": "stream",
     "text": [
      "\n",
      "0: 1024x800 3 tables, 268.7ms\n",
      "Speed: 8.9ms preprocess, 268.7ms inference, 0.5ms postprocess per image at shape (1, 3, 1024, 800)\n"
     ]
    },
    {
     "name": "stderr",
     "output_type": "stream",
     "text": [
      "\r",
      " 26%|██▋       | 95/360 [00:28<01:27,  3.05it/s]"
     ]
    },
    {
     "name": "stdout",
     "output_type": "stream",
     "text": [
      "\n",
      "0: 1024x832 1 table, 278.4ms\n",
      "Speed: 8.3ms preprocess, 278.4ms inference, 1.4ms postprocess per image at shape (1, 3, 1024, 832)\n"
     ]
    },
    {
     "name": "stderr",
     "output_type": "stream",
     "text": [
      "\r",
      " 27%|██▋       | 96/360 [00:28<01:24,  3.13it/s]"
     ]
    },
    {
     "name": "stdout",
     "output_type": "stream",
     "text": [
      "\n",
      "0: 1024x800 3 tables, 270.5ms\n",
      "Speed: 7.1ms preprocess, 270.5ms inference, 0.6ms postprocess per image at shape (1, 3, 1024, 800)\n"
     ]
    },
    {
     "name": "stderr",
     "output_type": "stream",
     "text": [
      "\r",
      " 27%|██▋       | 97/360 [00:28<01:22,  3.19it/s]"
     ]
    },
    {
     "name": "stdout",
     "output_type": "stream",
     "text": [
      "\n",
      "0: 1024x736 2 tables, 251.3ms\n",
      "Speed: 7.1ms preprocess, 251.3ms inference, 0.5ms postprocess per image at shape (1, 3, 1024, 736)\n"
     ]
    },
    {
     "name": "stderr",
     "output_type": "stream",
     "text": [
      "\r",
      " 27%|██▋       | 98/360 [00:29<01:20,  3.25it/s]"
     ]
    },
    {
     "name": "stdout",
     "output_type": "stream",
     "text": [
      "\n",
      "0: 1024x800 1 table, 273.1ms\n",
      "Speed: 8.2ms preprocess, 273.1ms inference, 4.8ms postprocess per image at shape (1, 3, 1024, 800)\n"
     ]
    },
    {
     "name": "stderr",
     "output_type": "stream",
     "text": [
      "\r",
      " 28%|██▊       | 99/360 [00:29<01:25,  3.05it/s]"
     ]
    },
    {
     "name": "stdout",
     "output_type": "stream",
     "text": [
      "\n",
      "0: 1024x800 2 tables, 267.3ms\n",
      "Speed: 6.5ms preprocess, 267.3ms inference, 1.4ms postprocess per image at shape (1, 3, 1024, 800)\n"
     ]
    },
    {
     "name": "stderr",
     "output_type": "stream",
     "text": [
      "\r",
      " 28%|██▊       | 100/360 [00:29<01:23,  3.13it/s]"
     ]
    },
    {
     "name": "stdout",
     "output_type": "stream",
     "text": [
      "\n",
      "0: 1024x800 1 table, 273.8ms\n",
      "Speed: 12.2ms preprocess, 273.8ms inference, 0.6ms postprocess per image at shape (1, 3, 1024, 800)\n"
     ]
    },
    {
     "name": "stderr",
     "output_type": "stream",
     "text": [
      "\r",
      " 28%|██▊       | 101/360 [00:30<01:21,  3.20it/s]"
     ]
    },
    {
     "name": "stdout",
     "output_type": "stream",
     "text": [
      "\n",
      "0: 1024x768 1 table, 275.7ms\n",
      "Speed: 9.7ms preprocess, 275.7ms inference, 1.4ms postprocess per image at shape (1, 3, 1024, 768)\n"
     ]
    },
    {
     "name": "stderr",
     "output_type": "stream",
     "text": [
      "\r",
      " 28%|██▊       | 102/360 [00:30<01:19,  3.25it/s]"
     ]
    },
    {
     "name": "stdout",
     "output_type": "stream",
     "text": [
      "\n",
      "0: 1024x736 3 tables, 247.9ms\n",
      "Speed: 7.6ms preprocess, 247.9ms inference, 1.2ms postprocess per image at shape (1, 3, 1024, 736)\n"
     ]
    },
    {
     "name": "stderr",
     "output_type": "stream",
     "text": [
      "\r",
      " 29%|██▊       | 103/360 [00:30<01:16,  3.37it/s]"
     ]
    },
    {
     "name": "stdout",
     "output_type": "stream",
     "text": [
      "\n",
      "0: 1024x736 1 table, 246.3ms\n",
      "Speed: 8.1ms preprocess, 246.3ms inference, 0.6ms postprocess per image at shape (1, 3, 1024, 736)\n"
     ]
    },
    {
     "name": "stderr",
     "output_type": "stream",
     "text": [
      "\r",
      " 29%|██▉       | 104/360 [00:31<01:13,  3.48it/s]"
     ]
    },
    {
     "name": "stdout",
     "output_type": "stream",
     "text": [
      "\n",
      "0: 1024x736 1 table, 246.3ms\n",
      "Speed: 8.1ms preprocess, 246.3ms inference, 0.5ms postprocess per image at shape (1, 3, 1024, 736)\n"
     ]
    },
    {
     "name": "stderr",
     "output_type": "stream",
     "text": [
      "\r",
      " 29%|██▉       | 105/360 [00:31<01:16,  3.32it/s]"
     ]
    },
    {
     "name": "stdout",
     "output_type": "stream",
     "text": [
      "\n",
      "0: 1024x736 2 tables, 244.4ms\n",
      "Speed: 5.0ms preprocess, 244.4ms inference, 1.1ms postprocess per image at shape (1, 3, 1024, 736)\n"
     ]
    },
    {
     "name": "stderr",
     "output_type": "stream",
     "text": [
      "\r",
      " 29%|██▉       | 106/360 [00:31<01:13,  3.47it/s]"
     ]
    },
    {
     "name": "stdout",
     "output_type": "stream",
     "text": [
      "\n",
      "0: 1024x768 1 table, 260.0ms\n",
      "Speed: 5.7ms preprocess, 260.0ms inference, 0.5ms postprocess per image at shape (1, 3, 1024, 768)\n"
     ]
    },
    {
     "name": "stderr",
     "output_type": "stream",
     "text": [
      "\r",
      " 30%|██▉       | 107/360 [00:31<01:11,  3.52it/s]"
     ]
    },
    {
     "name": "stdout",
     "output_type": "stream",
     "text": [
      "\n",
      "0: 1024x736 2 tables, 245.3ms\n",
      "Speed: 5.5ms preprocess, 245.3ms inference, 0.6ms postprocess per image at shape (1, 3, 1024, 736)\n"
     ]
    },
    {
     "name": "stderr",
     "output_type": "stream",
     "text": [
      "\r",
      " 30%|███       | 108/360 [00:32<01:09,  3.61it/s]"
     ]
    },
    {
     "name": "stdout",
     "output_type": "stream",
     "text": [
      "\n",
      "0: 1024x768 1 table, 276.8ms\n",
      "Speed: 11.7ms preprocess, 276.8ms inference, 1.1ms postprocess per image at shape (1, 3, 1024, 768)\n"
     ]
    },
    {
     "name": "stderr",
     "output_type": "stream",
     "text": [
      "\r",
      " 30%|███       | 109/360 [00:32<01:12,  3.44it/s]"
     ]
    },
    {
     "name": "stdout",
     "output_type": "stream",
     "text": [
      "\n",
      "0: 1024x800 1 table, 277.5ms\n",
      "Speed: 8.3ms preprocess, 277.5ms inference, 0.8ms postprocess per image at shape (1, 3, 1024, 800)\n"
     ]
    },
    {
     "name": "stderr",
     "output_type": "stream",
     "text": [
      "\r",
      " 31%|███       | 110/360 [00:32<01:18,  3.19it/s]"
     ]
    },
    {
     "name": "stdout",
     "output_type": "stream",
     "text": [
      "\n",
      "0: 1024x800 1 table, 270.6ms\n",
      "Speed: 7.2ms preprocess, 270.6ms inference, 1.0ms postprocess per image at shape (1, 3, 1024, 800)\n"
     ]
    },
    {
     "name": "stderr",
     "output_type": "stream",
     "text": [
      "\r",
      " 31%|███       | 111/360 [00:33<01:17,  3.22it/s]"
     ]
    },
    {
     "name": "stdout",
     "output_type": "stream",
     "text": [
      "\n",
      "0: 1024x800 1 table, 276.7ms\n",
      "Speed: 9.0ms preprocess, 276.7ms inference, 0.5ms postprocess per image at shape (1, 3, 1024, 800)\n"
     ]
    },
    {
     "name": "stderr",
     "output_type": "stream",
     "text": [
      "\r",
      " 31%|███       | 112/360 [00:33<01:20,  3.06it/s]"
     ]
    },
    {
     "name": "stdout",
     "output_type": "stream",
     "text": [
      "\n",
      "0: 1024x800 1 table, 278.0ms\n",
      "Speed: 9.3ms preprocess, 278.0ms inference, 1.7ms postprocess per image at shape (1, 3, 1024, 800)\n"
     ]
    },
    {
     "name": "stderr",
     "output_type": "stream",
     "text": [
      "\r",
      " 31%|███▏      | 113/360 [00:33<01:20,  3.08it/s]"
     ]
    },
    {
     "name": "stdout",
     "output_type": "stream",
     "text": [
      "\n",
      "0: 1024x800 4 tables, 279.4ms\n",
      "Speed: 6.5ms preprocess, 279.4ms inference, 1.1ms postprocess per image at shape (1, 3, 1024, 800)\n"
     ]
    },
    {
     "name": "stderr",
     "output_type": "stream",
     "text": [
      "\r",
      " 32%|███▏      | 114/360 [00:34<01:19,  3.10it/s]"
     ]
    },
    {
     "name": "stdout",
     "output_type": "stream",
     "text": [
      "\n",
      "0: 1024x800 (no detections), 281.5ms\n",
      "Speed: 9.8ms preprocess, 281.5ms inference, 0.4ms postprocess per image at shape (1, 3, 1024, 800)\n"
     ]
    },
    {
     "name": "stderr",
     "output_type": "stream",
     "text": [
      "\r",
      " 32%|███▏      | 115/360 [00:34<01:22,  2.95it/s]"
     ]
    },
    {
     "name": "stdout",
     "output_type": "stream",
     "text": [
      "\n",
      "0: 1024x800 3 tables, 273.5ms\n",
      "Speed: 8.7ms preprocess, 273.5ms inference, 0.9ms postprocess per image at shape (1, 3, 1024, 800)\n"
     ]
    },
    {
     "name": "stderr",
     "output_type": "stream",
     "text": [
      "\r",
      " 32%|███▏      | 116/360 [00:34<01:24,  2.89it/s]"
     ]
    },
    {
     "name": "stdout",
     "output_type": "stream",
     "text": [
      "\n",
      "0: 1024x800 2 tables, 265.9ms\n",
      "Speed: 9.9ms preprocess, 265.9ms inference, 0.9ms postprocess per image at shape (1, 3, 1024, 800)\n"
     ]
    },
    {
     "name": "stderr",
     "output_type": "stream",
     "text": [
      "\r",
      " 32%|███▎      | 117/360 [00:35<01:24,  2.88it/s]"
     ]
    },
    {
     "name": "stdout",
     "output_type": "stream",
     "text": [
      "\n",
      "0: 1024x800 1 table, 270.9ms\n",
      "Speed: 6.6ms preprocess, 270.9ms inference, 0.9ms postprocess per image at shape (1, 3, 1024, 800)\n"
     ]
    },
    {
     "name": "stderr",
     "output_type": "stream",
     "text": [
      "\r",
      " 33%|███▎      | 118/360 [00:35<01:20,  3.01it/s]"
     ]
    },
    {
     "name": "stdout",
     "output_type": "stream",
     "text": [
      "\n",
      "0: 1024x800 1 table, 276.9ms\n",
      "Speed: 6.7ms preprocess, 276.9ms inference, 0.6ms postprocess per image at shape (1, 3, 1024, 800)\n"
     ]
    },
    {
     "name": "stderr",
     "output_type": "stream",
     "text": [
      "\r",
      " 33%|███▎      | 119/360 [00:35<01:18,  3.08it/s]"
     ]
    },
    {
     "name": "stdout",
     "output_type": "stream",
     "text": [
      "\n",
      "0: 1024x800 1 table, 284.0ms\n",
      "Speed: 7.4ms preprocess, 284.0ms inference, 0.8ms postprocess per image at shape (1, 3, 1024, 800)\n"
     ]
    },
    {
     "name": "stderr",
     "output_type": "stream",
     "text": [
      "\r",
      " 33%|███▎      | 120/360 [00:36<01:16,  3.12it/s]"
     ]
    },
    {
     "name": "stdout",
     "output_type": "stream",
     "text": [
      "\n",
      "0: 1024x800 2 tables, 277.5ms\n",
      "Speed: 9.1ms preprocess, 277.5ms inference, 1.2ms postprocess per image at shape (1, 3, 1024, 800)\n"
     ]
    },
    {
     "name": "stderr",
     "output_type": "stream",
     "text": [
      "\r",
      " 34%|███▎      | 121/360 [00:36<01:20,  2.96it/s]"
     ]
    },
    {
     "name": "stdout",
     "output_type": "stream",
     "text": [
      "\n",
      "0: 1024x800 1 table, 272.2ms\n",
      "Speed: 7.9ms preprocess, 272.2ms inference, 0.9ms postprocess per image at shape (1, 3, 1024, 800)\n"
     ]
    },
    {
     "name": "stderr",
     "output_type": "stream",
     "text": [
      "\r",
      " 34%|███▍      | 122/360 [00:36<01:18,  3.05it/s]"
     ]
    },
    {
     "name": "stdout",
     "output_type": "stream",
     "text": [
      "\n",
      "0: 1024x800 2 tables, 275.6ms\n",
      "Speed: 6.8ms preprocess, 275.6ms inference, 0.6ms postprocess per image at shape (1, 3, 1024, 800)\n"
     ]
    },
    {
     "name": "stderr",
     "output_type": "stream",
     "text": [
      "\r",
      " 34%|███▍      | 123/360 [00:37<01:16,  3.11it/s]"
     ]
    },
    {
     "name": "stdout",
     "output_type": "stream",
     "text": [
      "\n",
      "0: 1024x736 1 table, 262.0ms\n",
      "Speed: 8.1ms preprocess, 262.0ms inference, 0.5ms postprocess per image at shape (1, 3, 1024, 736)\n"
     ]
    },
    {
     "name": "stderr",
     "output_type": "stream",
     "text": [
      "\r",
      " 34%|███▍      | 124/360 [00:37<01:18,  3.01it/s]"
     ]
    },
    {
     "name": "stdout",
     "output_type": "stream",
     "text": [
      "\n",
      "0: 1024x800 1 table, 274.5ms\n",
      "Speed: 6.9ms preprocess, 274.5ms inference, 1.0ms postprocess per image at shape (1, 3, 1024, 800)\n"
     ]
    },
    {
     "name": "stderr",
     "output_type": "stream",
     "text": [
      "\r",
      " 35%|███▍      | 125/360 [00:37<01:16,  3.08it/s]"
     ]
    },
    {
     "name": "stdout",
     "output_type": "stream",
     "text": [
      "\n",
      "0: 1024x800 2 tables, 284.2ms\n",
      "Speed: 9.1ms preprocess, 284.2ms inference, 0.6ms postprocess per image at shape (1, 3, 1024, 800)\n"
     ]
    },
    {
     "name": "stderr",
     "output_type": "stream",
     "text": [
      "\r",
      " 35%|███▌      | 126/360 [00:38<01:19,  2.94it/s]"
     ]
    },
    {
     "name": "stdout",
     "output_type": "stream",
     "text": [
      "\n",
      "0: 1024x768 2 tables, 264.3ms\n",
      "Speed: 7.0ms preprocess, 264.3ms inference, 0.9ms postprocess per image at shape (1, 3, 1024, 768)\n"
     ]
    },
    {
     "name": "stderr",
     "output_type": "stream",
     "text": [
      "\r",
      " 35%|███▌      | 127/360 [00:38<01:16,  3.05it/s]"
     ]
    },
    {
     "name": "stdout",
     "output_type": "stream",
     "text": [
      "\n",
      "0: 1024x800 2 tables, 275.3ms\n",
      "Speed: 9.1ms preprocess, 275.3ms inference, 0.6ms postprocess per image at shape (1, 3, 1024, 800)\n"
     ]
    },
    {
     "name": "stderr",
     "output_type": "stream",
     "text": [
      "\r",
      " 36%|███▌      | 128/360 [00:38<01:18,  2.95it/s]"
     ]
    },
    {
     "name": "stdout",
     "output_type": "stream",
     "text": [
      "\n",
      "0: 1024x768 1 table, 265.9ms\n",
      "Speed: 7.0ms preprocess, 265.9ms inference, 0.9ms postprocess per image at shape (1, 3, 1024, 768)\n"
     ]
    },
    {
     "name": "stderr",
     "output_type": "stream",
     "text": [
      "\r",
      " 36%|███▌      | 129/360 [00:39<01:15,  3.06it/s]"
     ]
    },
    {
     "name": "stdout",
     "output_type": "stream",
     "text": [
      "\n",
      "0: 1024x800 2 tables, 266.7ms\n",
      "Speed: 6.6ms preprocess, 266.7ms inference, 0.6ms postprocess per image at shape (1, 3, 1024, 800)\n"
     ]
    },
    {
     "name": "stderr",
     "output_type": "stream",
     "text": [
      "\r",
      " 36%|███▌      | 130/360 [00:39<01:13,  3.14it/s]"
     ]
    },
    {
     "name": "stdout",
     "output_type": "stream",
     "text": [
      "\n",
      "0: 1024x768 1 table, 262.4ms\n",
      "Speed: 7.4ms preprocess, 262.4ms inference, 3.1ms postprocess per image at shape (1, 3, 1024, 768)\n"
     ]
    },
    {
     "name": "stderr",
     "output_type": "stream",
     "text": [
      "\r",
      " 36%|███▋      | 131/360 [00:39<01:11,  3.18it/s]"
     ]
    },
    {
     "name": "stdout",
     "output_type": "stream",
     "text": [
      "\n",
      "0: 1024x800 3 tables, 277.8ms\n",
      "Speed: 9.1ms preprocess, 277.8ms inference, 0.5ms postprocess per image at shape (1, 3, 1024, 800)\n"
     ]
    },
    {
     "name": "stderr",
     "output_type": "stream",
     "text": [
      "\r",
      " 37%|███▋      | 132/360 [00:40<01:15,  3.01it/s]"
     ]
    },
    {
     "name": "stdout",
     "output_type": "stream",
     "text": [
      "\n",
      "0: 1024x800 2 tables, 264.5ms\n",
      "Speed: 9.5ms preprocess, 264.5ms inference, 0.8ms postprocess per image at shape (1, 3, 1024, 800)\n"
     ]
    },
    {
     "name": "stderr",
     "output_type": "stream",
     "text": [
      "\r",
      " 37%|███▋      | 133/360 [00:40<01:17,  2.95it/s]"
     ]
    },
    {
     "name": "stdout",
     "output_type": "stream",
     "text": [
      "\n",
      "0: 1024x736 1 table, 248.8ms\n",
      "Speed: 5.0ms preprocess, 248.8ms inference, 1.0ms postprocess per image at shape (1, 3, 1024, 736)\n"
     ]
    },
    {
     "name": "stderr",
     "output_type": "stream",
     "text": [
      "\r",
      " 37%|███▋      | 134/360 [00:40<01:11,  3.16it/s]"
     ]
    },
    {
     "name": "stdout",
     "output_type": "stream",
     "text": [
      "\n",
      "0: 1024x800 1 table, 277.8ms\n",
      "Speed: 7.7ms preprocess, 277.8ms inference, 0.6ms postprocess per image at shape (1, 3, 1024, 800)\n"
     ]
    },
    {
     "name": "stderr",
     "output_type": "stream",
     "text": [
      "\r",
      " 38%|███▊      | 135/360 [00:41<01:10,  3.19it/s]"
     ]
    },
    {
     "name": "stdout",
     "output_type": "stream",
     "text": [
      "\n",
      "0: 1024x736 1 table, 251.6ms\n",
      "Speed: 6.3ms preprocess, 251.6ms inference, 0.6ms postprocess per image at shape (1, 3, 1024, 736)\n"
     ]
    },
    {
     "name": "stderr",
     "output_type": "stream",
     "text": [
      "\r",
      " 38%|███▊      | 136/360 [00:41<01:07,  3.34it/s]"
     ]
    },
    {
     "name": "stdout",
     "output_type": "stream",
     "text": [
      "\n",
      "0: 1024x800 1 table, 281.6ms\n",
      "Speed: 9.4ms preprocess, 281.6ms inference, 1.1ms postprocess per image at shape (1, 3, 1024, 800)\n"
     ]
    },
    {
     "name": "stderr",
     "output_type": "stream",
     "text": [
      "\r",
      " 38%|███▊      | 137/360 [00:41<01:08,  3.27it/s]"
     ]
    },
    {
     "name": "stdout",
     "output_type": "stream",
     "text": [
      "\n",
      "0: 1024x768 2 tables, 265.1ms\n",
      "Speed: 5.4ms preprocess, 265.1ms inference, 0.6ms postprocess per image at shape (1, 3, 1024, 768)\n"
     ]
    },
    {
     "name": "stderr",
     "output_type": "stream",
     "text": [
      "\r",
      " 38%|███▊      | 138/360 [00:41<01:06,  3.36it/s]"
     ]
    },
    {
     "name": "stdout",
     "output_type": "stream",
     "text": [
      "\n",
      "0: 1024x800 1 table, 271.0ms\n",
      "Speed: 12.0ms preprocess, 271.0ms inference, 1.1ms postprocess per image at shape (1, 3, 1024, 800)\n"
     ]
    },
    {
     "name": "stderr",
     "output_type": "stream",
     "text": [
      "\r",
      " 39%|███▊      | 139/360 [00:42<01:10,  3.12it/s]"
     ]
    },
    {
     "name": "stdout",
     "output_type": "stream",
     "text": [
      "\n",
      "0: 1024x800 2 tables, 267.4ms\n",
      "Speed: 9.8ms preprocess, 267.4ms inference, 0.9ms postprocess per image at shape (1, 3, 1024, 800)\n"
     ]
    },
    {
     "name": "stderr",
     "output_type": "stream",
     "text": [
      "\r",
      " 39%|███▉      | 140/360 [00:42<01:12,  3.02it/s]"
     ]
    },
    {
     "name": "stdout",
     "output_type": "stream",
     "text": [
      "\n",
      "0: 1024x800 1 table, 268.6ms\n",
      "Speed: 9.5ms preprocess, 268.6ms inference, 0.9ms postprocess per image at shape (1, 3, 1024, 800)\n"
     ]
    },
    {
     "name": "stderr",
     "output_type": "stream",
     "text": [
      "\r",
      " 39%|███▉      | 141/360 [00:43<01:14,  2.94it/s]"
     ]
    },
    {
     "name": "stdout",
     "output_type": "stream",
     "text": [
      "\n",
      "0: 1024x768 3 tables, 268.2ms\n",
      "Speed: 7.3ms preprocess, 268.2ms inference, 1.0ms postprocess per image at shape (1, 3, 1024, 768)\n"
     ]
    },
    {
     "name": "stderr",
     "output_type": "stream",
     "text": [
      "\r",
      " 39%|███▉      | 142/360 [00:43<01:11,  3.04it/s]"
     ]
    },
    {
     "name": "stdout",
     "output_type": "stream",
     "text": [
      "\n",
      "0: 1024x800 2 tables, 274.8ms\n",
      "Speed: 9.3ms preprocess, 274.8ms inference, 0.5ms postprocess per image at shape (1, 3, 1024, 800)\n"
     ]
    },
    {
     "name": "stderr",
     "output_type": "stream",
     "text": [
      "\r",
      " 40%|███▉      | 143/360 [00:43<01:14,  2.92it/s]"
     ]
    },
    {
     "name": "stdout",
     "output_type": "stream",
     "text": [
      "\n",
      "0: 1024x768 2 tables, 265.9ms\n",
      "Speed: 6.0ms preprocess, 265.9ms inference, 0.9ms postprocess per image at shape (1, 3, 1024, 768)\n"
     ]
    },
    {
     "name": "stderr",
     "output_type": "stream",
     "text": [
      "\r",
      " 40%|████      | 144/360 [00:44<01:10,  3.08it/s]"
     ]
    },
    {
     "name": "stdout",
     "output_type": "stream",
     "text": [
      "\n",
      "0: 1024x800 1 table, 265.5ms\n",
      "Speed: 6.4ms preprocess, 265.5ms inference, 0.6ms postprocess per image at shape (1, 3, 1024, 800)\n"
     ]
    },
    {
     "name": "stderr",
     "output_type": "stream",
     "text": [
      "\r",
      " 40%|████      | 145/360 [00:44<01:07,  3.21it/s]"
     ]
    },
    {
     "name": "stdout",
     "output_type": "stream",
     "text": [
      "\n",
      "0: 1024x800 1 table, 277.1ms\n",
      "Speed: 6.7ms preprocess, 277.1ms inference, 0.6ms postprocess per image at shape (1, 3, 1024, 800)\n"
     ]
    },
    {
     "name": "stderr",
     "output_type": "stream",
     "text": [
      "\r",
      " 41%|████      | 146/360 [00:44<01:07,  3.18it/s]"
     ]
    },
    {
     "name": "stdout",
     "output_type": "stream",
     "text": [
      "\n",
      "0: 1024x800 1 table, 271.7ms\n",
      "Speed: 7.1ms preprocess, 271.7ms inference, 0.5ms postprocess per image at shape (1, 3, 1024, 800)\n"
     ]
    },
    {
     "name": "stderr",
     "output_type": "stream",
     "text": [
      "\r",
      " 41%|████      | 147/360 [00:44<01:05,  3.26it/s]"
     ]
    },
    {
     "name": "stdout",
     "output_type": "stream",
     "text": [
      "\n",
      "0: 1024x800 2 tables, 278.7ms\n",
      "Speed: 10.0ms preprocess, 278.7ms inference, 0.6ms postprocess per image at shape (1, 3, 1024, 800)\n"
     ]
    },
    {
     "name": "stderr",
     "output_type": "stream",
     "text": [
      "\r",
      " 41%|████      | 148/360 [00:45<01:05,  3.24it/s]"
     ]
    },
    {
     "name": "stdout",
     "output_type": "stream",
     "text": [
      "\n",
      "0: 1024x800 2 tables, 280.6ms\n",
      "Speed: 9.0ms preprocess, 280.6ms inference, 0.6ms postprocess per image at shape (1, 3, 1024, 800)\n"
     ]
    },
    {
     "name": "stderr",
     "output_type": "stream",
     "text": [
      "\r",
      " 41%|████▏     | 149/360 [00:45<01:09,  3.04it/s]"
     ]
    },
    {
     "name": "stdout",
     "output_type": "stream",
     "text": [
      "\n",
      "0: 1024x800 1 table, 272.7ms\n",
      "Speed: 6.6ms preprocess, 272.7ms inference, 1.0ms postprocess per image at shape (1, 3, 1024, 800)\n"
     ]
    },
    {
     "name": "stderr",
     "output_type": "stream",
     "text": [
      "\r",
      " 42%|████▏     | 150/360 [00:45<01:06,  3.16it/s]"
     ]
    },
    {
     "name": "stdout",
     "output_type": "stream",
     "text": [
      "\n",
      "0: 1024x800 2 tables, 276.6ms\n",
      "Speed: 6.7ms preprocess, 276.6ms inference, 0.6ms postprocess per image at shape (1, 3, 1024, 800)\n"
     ]
    },
    {
     "name": "stderr",
     "output_type": "stream",
     "text": [
      "\r",
      " 42%|████▏     | 151/360 [00:46<01:05,  3.18it/s]"
     ]
    },
    {
     "name": "stdout",
     "output_type": "stream",
     "text": [
      "\n",
      "0: 1024x800 1 table, 284.6ms\n",
      "Speed: 8.8ms preprocess, 284.6ms inference, 0.9ms postprocess per image at shape (1, 3, 1024, 800)\n"
     ]
    },
    {
     "name": "stderr",
     "output_type": "stream",
     "text": [
      "\r",
      " 42%|████▏     | 152/360 [00:46<01:09,  2.98it/s]"
     ]
    },
    {
     "name": "stdout",
     "output_type": "stream",
     "text": [
      "\n",
      "0: 1024x768 1 table, 300.9ms\n",
      "Speed: 5.7ms preprocess, 300.9ms inference, 1.3ms postprocess per image at shape (1, 3, 1024, 768)\n"
     ]
    },
    {
     "name": "stderr",
     "output_type": "stream",
     "text": [
      "\r",
      " 42%|████▎     | 153/360 [00:46<01:08,  3.02it/s]"
     ]
    },
    {
     "name": "stdout",
     "output_type": "stream",
     "text": [
      "\n",
      "0: 1024x800 1 table, 301.7ms\n",
      "Speed: 8.4ms preprocess, 301.7ms inference, 0.6ms postprocess per image at shape (1, 3, 1024, 800)\n"
     ]
    },
    {
     "name": "stderr",
     "output_type": "stream",
     "text": [
      "\r",
      " 43%|████▎     | 154/360 [00:47<01:07,  3.05it/s]"
     ]
    },
    {
     "name": "stdout",
     "output_type": "stream",
     "text": [
      "\n",
      "0: 1024x672 1 table, 257.6ms\n",
      "Speed: 9.0ms preprocess, 257.6ms inference, 0.7ms postprocess per image at shape (1, 3, 1024, 672)\n"
     ]
    },
    {
     "name": "stderr",
     "output_type": "stream",
     "text": [
      "\r",
      " 43%|████▎     | 155/360 [00:47<01:06,  3.08it/s]"
     ]
    },
    {
     "name": "stdout",
     "output_type": "stream",
     "text": [
      "\n",
      "0: 1024x800 1 table, 286.2ms\n",
      "Speed: 13.5ms preprocess, 286.2ms inference, 0.6ms postprocess per image at shape (1, 3, 1024, 800)\n"
     ]
    },
    {
     "name": "stderr",
     "output_type": "stream",
     "text": [
      "\r",
      " 43%|████▎     | 156/360 [00:47<01:06,  3.07it/s]"
     ]
    },
    {
     "name": "stdout",
     "output_type": "stream",
     "text": [
      "\n",
      "0: 1024x800 1 table, 358.6ms\n",
      "Speed: 17.0ms preprocess, 358.6ms inference, 4.0ms postprocess per image at shape (1, 3, 1024, 800)\n"
     ]
    },
    {
     "name": "stderr",
     "output_type": "stream",
     "text": [
      "\r",
      " 44%|████▎     | 157/360 [00:48<01:10,  2.87it/s]"
     ]
    },
    {
     "name": "stdout",
     "output_type": "stream",
     "text": [
      "\n",
      "0: 1024x768 1 table, 310.6ms\n",
      "Speed: 8.9ms preprocess, 310.6ms inference, 0.6ms postprocess per image at shape (1, 3, 1024, 768)\n"
     ]
    },
    {
     "name": "stderr",
     "output_type": "stream",
     "text": [
      "\r",
      " 44%|████▍     | 158/360 [00:48<01:10,  2.86it/s]"
     ]
    },
    {
     "name": "stdout",
     "output_type": "stream",
     "text": [
      "\n",
      "0: 1024x768 1 table, 261.2ms\n",
      "Speed: 6.7ms preprocess, 261.2ms inference, 2.7ms postprocess per image at shape (1, 3, 1024, 768)\n"
     ]
    },
    {
     "name": "stderr",
     "output_type": "stream",
     "text": [
      "\r",
      " 44%|████▍     | 159/360 [00:48<01:05,  3.05it/s]"
     ]
    },
    {
     "name": "stdout",
     "output_type": "stream",
     "text": [
      "\n",
      "0: 1024x800 1 table, 283.9ms\n",
      "Speed: 24.6ms preprocess, 283.9ms inference, 0.6ms postprocess per image at shape (1, 3, 1024, 800)\n"
     ]
    },
    {
     "name": "stderr",
     "output_type": "stream",
     "text": [
      "\r",
      " 44%|████▍     | 160/360 [00:49<01:06,  3.03it/s]"
     ]
    },
    {
     "name": "stdout",
     "output_type": "stream",
     "text": [
      "\n",
      "0: 1024x800 1 table, 304.9ms\n",
      "Speed: 8.1ms preprocess, 304.9ms inference, 1.1ms postprocess per image at shape (1, 3, 1024, 800)\n"
     ]
    },
    {
     "name": "stderr",
     "output_type": "stream",
     "text": [
      "\r",
      " 45%|████▍     | 161/360 [00:49<01:06,  3.00it/s]"
     ]
    },
    {
     "name": "stdout",
     "output_type": "stream",
     "text": [
      "\n",
      "0: 1024x800 1 table, 288.6ms\n",
      "Speed: 6.6ms preprocess, 288.6ms inference, 0.8ms postprocess per image at shape (1, 3, 1024, 800)\n"
     ]
    },
    {
     "name": "stderr",
     "output_type": "stream",
     "text": [
      "\r",
      " 45%|████▌     | 162/360 [00:49<01:04,  3.07it/s]"
     ]
    },
    {
     "name": "stdout",
     "output_type": "stream",
     "text": [
      "\n",
      "0: 1024x800 2 tables, 274.2ms\n",
      "Speed: 8.2ms preprocess, 274.2ms inference, 0.6ms postprocess per image at shape (1, 3, 1024, 800)\n"
     ]
    },
    {
     "name": "stderr",
     "output_type": "stream",
     "text": [
      "\r",
      " 45%|████▌     | 163/360 [00:50<01:03,  3.12it/s]"
     ]
    },
    {
     "name": "stdout",
     "output_type": "stream",
     "text": [
      "\n",
      "0: 1024x736 2 tables, 255.4ms\n",
      "Speed: 8.6ms preprocess, 255.4ms inference, 0.7ms postprocess per image at shape (1, 3, 1024, 736)\n"
     ]
    },
    {
     "name": "stderr",
     "output_type": "stream",
     "text": [
      "\r",
      " 46%|████▌     | 164/360 [00:50<01:00,  3.26it/s]"
     ]
    },
    {
     "name": "stdout",
     "output_type": "stream",
     "text": [
      "\n",
      "0: 1024x800 1 table, 274.0ms\n",
      "Speed: 8.3ms preprocess, 274.0ms inference, 0.5ms postprocess per image at shape (1, 3, 1024, 800)\n"
     ]
    },
    {
     "name": "stderr",
     "output_type": "stream",
     "text": [
      "\r",
      " 46%|████▌     | 165/360 [00:50<00:59,  3.26it/s]"
     ]
    },
    {
     "name": "stdout",
     "output_type": "stream",
     "text": [
      "\n",
      "0: 1024x768 2 tables, 290.9ms\n",
      "Speed: 7.2ms preprocess, 290.9ms inference, 0.5ms postprocess per image at shape (1, 3, 1024, 768)\n"
     ]
    },
    {
     "name": "stderr",
     "output_type": "stream",
     "text": [
      "\r",
      " 46%|████▌     | 166/360 [00:51<01:00,  3.19it/s]"
     ]
    },
    {
     "name": "stdout",
     "output_type": "stream",
     "text": [
      "\n",
      "0: 1024x800 2 tables, 274.4ms\n",
      "Speed: 9.1ms preprocess, 274.4ms inference, 3.9ms postprocess per image at shape (1, 3, 1024, 800)\n"
     ]
    },
    {
     "name": "stderr",
     "output_type": "stream",
     "text": [
      "\r",
      " 46%|████▋     | 167/360 [00:51<01:00,  3.21it/s]"
     ]
    },
    {
     "name": "stdout",
     "output_type": "stream",
     "text": [
      "\n",
      "0: 1024x800 2 tables, 295.7ms\n",
      "Speed: 9.4ms preprocess, 295.7ms inference, 0.6ms postprocess per image at shape (1, 3, 1024, 800)\n"
     ]
    },
    {
     "name": "stderr",
     "output_type": "stream",
     "text": [
      "\r",
      " 47%|████▋     | 168/360 [00:51<01:00,  3.16it/s]"
     ]
    },
    {
     "name": "stdout",
     "output_type": "stream",
     "text": [
      "\n",
      "0: 1024x736 2 tables, 278.3ms\n",
      "Speed: 8.7ms preprocess, 278.3ms inference, 0.6ms postprocess per image at shape (1, 3, 1024, 736)\n"
     ]
    },
    {
     "name": "stderr",
     "output_type": "stream",
     "text": [
      "\r",
      " 47%|████▋     | 169/360 [00:52<00:59,  3.21it/s]"
     ]
    },
    {
     "name": "stdout",
     "output_type": "stream",
     "text": [
      "\n",
      "0: 1024x800 1 table, 283.2ms\n",
      "Speed: 10.3ms preprocess, 283.2ms inference, 0.5ms postprocess per image at shape (1, 3, 1024, 800)\n"
     ]
    },
    {
     "name": "stderr",
     "output_type": "stream",
     "text": [
      "\r",
      " 47%|████▋     | 170/360 [00:52<01:02,  3.02it/s]"
     ]
    },
    {
     "name": "stdout",
     "output_type": "stream",
     "text": [
      "\n",
      "0: 1024x800 1 table, 280.1ms\n",
      "Speed: 6.6ms preprocess, 280.1ms inference, 1.1ms postprocess per image at shape (1, 3, 1024, 800)\n"
     ]
    },
    {
     "name": "stderr",
     "output_type": "stream",
     "text": [
      "\r",
      " 48%|████▊     | 171/360 [00:52<01:01,  3.06it/s]"
     ]
    },
    {
     "name": "stdout",
     "output_type": "stream",
     "text": [
      "\n",
      "0: 1024x800 1 table, 287.5ms\n",
      "Speed: 13.2ms preprocess, 287.5ms inference, 0.5ms postprocess per image at shape (1, 3, 1024, 800)\n"
     ]
    },
    {
     "name": "stderr",
     "output_type": "stream",
     "text": [
      "\r",
      " 48%|████▊     | 172/360 [00:53<01:05,  2.89it/s]"
     ]
    },
    {
     "name": "stdout",
     "output_type": "stream",
     "text": [
      "\n",
      "0: 1024x800 1 table, 290.5ms\n",
      "Speed: 9.4ms preprocess, 290.5ms inference, 1.5ms postprocess per image at shape (1, 3, 1024, 800)\n"
     ]
    },
    {
     "name": "stderr",
     "output_type": "stream",
     "text": [
      "\r",
      " 48%|████▊     | 173/360 [00:53<01:02,  2.98it/s]"
     ]
    },
    {
     "name": "stdout",
     "output_type": "stream",
     "text": [
      "\n",
      "0: 1024x800 1 table, 311.7ms\n",
      "Speed: 37.0ms preprocess, 311.7ms inference, 0.6ms postprocess per image at shape (1, 3, 1024, 800)\n"
     ]
    },
    {
     "name": "stderr",
     "output_type": "stream",
     "text": [
      "\r",
      " 48%|████▊     | 174/360 [00:53<01:08,  2.72it/s]"
     ]
    },
    {
     "name": "stdout",
     "output_type": "stream",
     "text": [
      "\n",
      "0: 1024x736 2 tables, 257.6ms\n",
      "Speed: 7.1ms preprocess, 257.6ms inference, 0.9ms postprocess per image at shape (1, 3, 1024, 736)\n"
     ]
    },
    {
     "name": "stderr",
     "output_type": "stream",
     "text": [
      "\r",
      " 49%|████▊     | 175/360 [00:54<01:02,  2.95it/s]"
     ]
    },
    {
     "name": "stdout",
     "output_type": "stream",
     "text": [
      "\n",
      "0: 1024x800 5 tables, 288.2ms\n",
      "Speed: 9.2ms preprocess, 288.2ms inference, 0.6ms postprocess per image at shape (1, 3, 1024, 800)\n"
     ]
    },
    {
     "name": "stderr",
     "output_type": "stream",
     "text": [
      "\r",
      " 49%|████▉     | 176/360 [00:54<01:01,  2.99it/s]"
     ]
    },
    {
     "name": "stdout",
     "output_type": "stream",
     "text": [
      "\n",
      "0: 1024x800 2 tables, 291.1ms\n",
      "Speed: 16.4ms preprocess, 291.1ms inference, 1.1ms postprocess per image at shape (1, 3, 1024, 800)\n"
     ]
    },
    {
     "name": "stderr",
     "output_type": "stream",
     "text": [
      "\r",
      " 49%|████▉     | 177/360 [00:54<01:05,  2.81it/s]"
     ]
    },
    {
     "name": "stdout",
     "output_type": "stream",
     "text": [
      "\n",
      "0: 1024x800 1 table, 275.5ms\n",
      "Speed: 6.4ms preprocess, 275.5ms inference, 0.9ms postprocess per image at shape (1, 3, 1024, 800)\n"
     ]
    },
    {
     "name": "stderr",
     "output_type": "stream",
     "text": [
      "\r",
      " 49%|████▉     | 178/360 [00:55<01:01,  2.94it/s]"
     ]
    },
    {
     "name": "stdout",
     "output_type": "stream",
     "text": [
      "\n",
      "0: 1024x800 2 tables, 280.6ms\n",
      "Speed: 8.4ms preprocess, 280.6ms inference, 1.0ms postprocess per image at shape (1, 3, 1024, 800)\n"
     ]
    },
    {
     "name": "stderr",
     "output_type": "stream",
     "text": [
      "\r",
      " 50%|████▉     | 179/360 [00:55<01:03,  2.87it/s]"
     ]
    },
    {
     "name": "stdout",
     "output_type": "stream",
     "text": [
      "\n",
      "0: 1024x800 2 tables, 279.5ms\n",
      "Speed: 6.9ms preprocess, 279.5ms inference, 0.9ms postprocess per image at shape (1, 3, 1024, 800)\n"
     ]
    },
    {
     "name": "stderr",
     "output_type": "stream",
     "text": [
      "\r",
      " 50%|█████     | 180/360 [00:55<01:00,  2.98it/s]"
     ]
    },
    {
     "name": "stdout",
     "output_type": "stream",
     "text": [
      "\n",
      "0: 1024x800 3 tables, 280.2ms\n",
      "Speed: 9.4ms preprocess, 280.2ms inference, 0.5ms postprocess per image at shape (1, 3, 1024, 800)\n"
     ]
    },
    {
     "name": "stderr",
     "output_type": "stream",
     "text": [
      "\r",
      " 50%|█████     | 181/360 [00:56<01:01,  2.89it/s]"
     ]
    },
    {
     "name": "stdout",
     "output_type": "stream",
     "text": [
      "\n",
      "0: 1024x768 2 tables, 261.8ms\n",
      "Speed: 5.1ms preprocess, 261.8ms inference, 1.3ms postprocess per image at shape (1, 3, 1024, 768)\n"
     ]
    },
    {
     "name": "stderr",
     "output_type": "stream",
     "text": [
      "\r",
      " 51%|█████     | 182/360 [00:56<00:58,  3.07it/s]"
     ]
    },
    {
     "name": "stdout",
     "output_type": "stream",
     "text": [
      "\n",
      "0: 1024x800 2 tables, 288.2ms\n",
      "Speed: 9.2ms preprocess, 288.2ms inference, 0.6ms postprocess per image at shape (1, 3, 1024, 800)\n"
     ]
    },
    {
     "name": "stderr",
     "output_type": "stream",
     "text": [
      "\r",
      " 51%|█████     | 183/360 [00:56<01:01,  2.89it/s]"
     ]
    },
    {
     "name": "stdout",
     "output_type": "stream",
     "text": [
      "\n",
      "0: 1024x736 3 tables, 247.8ms\n",
      "Speed: 5.9ms preprocess, 247.8ms inference, 0.9ms postprocess per image at shape (1, 3, 1024, 736)\n"
     ]
    },
    {
     "name": "stderr",
     "output_type": "stream",
     "text": [
      "\r",
      " 51%|█████     | 184/360 [00:57<00:56,  3.11it/s]"
     ]
    },
    {
     "name": "stdout",
     "output_type": "stream",
     "text": [
      "\n",
      "0: 1024x800 2 tables, 302.1ms\n",
      "Speed: 5.8ms preprocess, 302.1ms inference, 0.9ms postprocess per image at shape (1, 3, 1024, 800)\n"
     ]
    },
    {
     "name": "stderr",
     "output_type": "stream",
     "text": [
      "\r",
      " 51%|█████▏    | 185/360 [00:57<00:56,  3.11it/s]"
     ]
    },
    {
     "name": "stdout",
     "output_type": "stream",
     "text": [
      "\n",
      "0: 1024x800 2 tables, 293.2ms\n",
      "Speed: 7.1ms preprocess, 293.2ms inference, 0.6ms postprocess per image at shape (1, 3, 1024, 800)\n"
     ]
    },
    {
     "name": "stderr",
     "output_type": "stream",
     "text": [
      "\r",
      " 52%|█████▏    | 186/360 [00:57<00:55,  3.14it/s]"
     ]
    },
    {
     "name": "stdout",
     "output_type": "stream",
     "text": [
      "\n",
      "0: 1024x800 3 tables, 303.7ms\n",
      "Speed: 10.6ms preprocess, 303.7ms inference, 0.8ms postprocess per image at shape (1, 3, 1024, 800)\n"
     ]
    },
    {
     "name": "stderr",
     "output_type": "stream",
     "text": [
      "\r",
      " 52%|█████▏    | 187/360 [00:58<00:59,  2.91it/s]"
     ]
    },
    {
     "name": "stdout",
     "output_type": "stream",
     "text": [
      "\n",
      "0: 1024x800 1 table, 270.4ms\n",
      "Speed: 9.2ms preprocess, 270.4ms inference, 0.9ms postprocess per image at shape (1, 3, 1024, 800)\n"
     ]
    },
    {
     "name": "stderr",
     "output_type": "stream",
     "text": [
      "\r",
      " 52%|█████▏    | 188/360 [00:58<01:00,  2.85it/s]"
     ]
    },
    {
     "name": "stdout",
     "output_type": "stream",
     "text": [
      "\n",
      "0: 1024x736 1 table, 289.8ms\n",
      "Speed: 5.8ms preprocess, 289.8ms inference, 1.4ms postprocess per image at shape (1, 3, 1024, 736)\n"
     ]
    },
    {
     "name": "stderr",
     "output_type": "stream",
     "text": [
      "\r",
      " 52%|█████▎    | 189/360 [00:58<00:57,  2.96it/s]"
     ]
    },
    {
     "name": "stdout",
     "output_type": "stream",
     "text": [
      "\n",
      "0: 1024x800 1 table, 332.6ms\n",
      "Speed: 7.4ms preprocess, 332.6ms inference, 0.5ms postprocess per image at shape (1, 3, 1024, 800)\n"
     ]
    },
    {
     "name": "stderr",
     "output_type": "stream",
     "text": [
      "\r",
      " 53%|█████▎    | 190/360 [00:59<00:59,  2.88it/s]"
     ]
    },
    {
     "name": "stdout",
     "output_type": "stream",
     "text": [
      "\n",
      "0: 1024x800 2 tables, 387.7ms\n",
      "Speed: 7.4ms preprocess, 387.7ms inference, 0.9ms postprocess per image at shape (1, 3, 1024, 800)\n"
     ]
    },
    {
     "name": "stderr",
     "output_type": "stream",
     "text": [
      "\r",
      " 53%|█████▎    | 191/360 [00:59<01:02,  2.70it/s]"
     ]
    },
    {
     "name": "stdout",
     "output_type": "stream",
     "text": [
      "\n",
      "0: 1024x800 2 tables, 318.7ms\n",
      "Speed: 26.1ms preprocess, 318.7ms inference, 1.1ms postprocess per image at shape (1, 3, 1024, 800)\n"
     ]
    },
    {
     "name": "stderr",
     "output_type": "stream",
     "text": [
      "\r",
      " 53%|█████▎    | 192/360 [01:00<01:06,  2.54it/s]"
     ]
    },
    {
     "name": "stdout",
     "output_type": "stream",
     "text": [
      "\n",
      "0: 1024x800 1 table, 318.8ms\n",
      "Speed: 10.5ms preprocess, 318.8ms inference, 1.2ms postprocess per image at shape (1, 3, 1024, 800)\n"
     ]
    },
    {
     "name": "stderr",
     "output_type": "stream",
     "text": [
      "\r",
      " 54%|█████▎    | 193/360 [01:00<01:03,  2.62it/s]"
     ]
    },
    {
     "name": "stdout",
     "output_type": "stream",
     "text": [
      "\n",
      "0: 1024x736 2 tables, 316.6ms\n",
      "Speed: 5.2ms preprocess, 316.6ms inference, 0.5ms postprocess per image at shape (1, 3, 1024, 736)\n"
     ]
    },
    {
     "name": "stderr",
     "output_type": "stream",
     "text": [
      "\r",
      " 54%|█████▍    | 194/360 [01:00<01:00,  2.73it/s]"
     ]
    },
    {
     "name": "stdout",
     "output_type": "stream",
     "text": [
      "\n",
      "0: 1024x800 3 tables, 286.9ms\n",
      "Speed: 9.3ms preprocess, 286.9ms inference, 0.6ms postprocess per image at shape (1, 3, 1024, 800)\n"
     ]
    },
    {
     "name": "stderr",
     "output_type": "stream",
     "text": [
      "\r",
      " 54%|█████▍    | 195/360 [01:01<01:01,  2.66it/s]"
     ]
    },
    {
     "name": "stdout",
     "output_type": "stream",
     "text": [
      "\n",
      "0: 1024x672 1 table, 253.5ms\n",
      "Speed: 8.9ms preprocess, 253.5ms inference, 0.9ms postprocess per image at shape (1, 3, 1024, 672)\n"
     ]
    },
    {
     "name": "stderr",
     "output_type": "stream",
     "text": [
      "\r",
      " 54%|█████▍    | 196/360 [01:01<00:58,  2.81it/s]"
     ]
    },
    {
     "name": "stdout",
     "output_type": "stream",
     "text": [
      "\n",
      "0: 1024x800 1 table, 293.6ms\n",
      "Speed: 7.9ms preprocess, 293.6ms inference, 0.8ms postprocess per image at shape (1, 3, 1024, 800)\n"
     ]
    },
    {
     "name": "stderr",
     "output_type": "stream",
     "text": [
      "\r",
      " 55%|█████▍    | 197/360 [01:01<00:56,  2.88it/s]"
     ]
    },
    {
     "name": "stdout",
     "output_type": "stream",
     "text": [
      "\n",
      "0: 1024x800 2 tables, 284.8ms\n",
      "Speed: 8.7ms preprocess, 284.8ms inference, 3.9ms postprocess per image at shape (1, 3, 1024, 800)\n"
     ]
    },
    {
     "name": "stderr",
     "output_type": "stream",
     "text": [
      "\r",
      " 55%|█████▌    | 198/360 [01:02<00:55,  2.94it/s]"
     ]
    },
    {
     "name": "stdout",
     "output_type": "stream",
     "text": [
      "\n",
      "0: 1024x800 1 table, 288.3ms\n",
      "Speed: 10.2ms preprocess, 288.3ms inference, 0.6ms postprocess per image at shape (1, 3, 1024, 800)\n"
     ]
    },
    {
     "name": "stderr",
     "output_type": "stream",
     "text": [
      "\r",
      " 55%|█████▌    | 199/360 [01:02<00:57,  2.82it/s]"
     ]
    },
    {
     "name": "stdout",
     "output_type": "stream",
     "text": [
      "\n",
      "0: 1024x736 1 table, 252.6ms\n",
      "Speed: 8.2ms preprocess, 252.6ms inference, 1.0ms postprocess per image at shape (1, 3, 1024, 736)\n"
     ]
    },
    {
     "name": "stderr",
     "output_type": "stream",
     "text": [
      "\r",
      " 56%|█████▌    | 200/360 [01:02<00:56,  2.82it/s]"
     ]
    },
    {
     "name": "stdout",
     "output_type": "stream",
     "text": [
      "\n",
      "0: 1024x800 1 table, 278.5ms\n",
      "Speed: 8.4ms preprocess, 278.5ms inference, 0.9ms postprocess per image at shape (1, 3, 1024, 800)\n"
     ]
    },
    {
     "name": "stderr",
     "output_type": "stream",
     "text": [
      "\r",
      " 56%|█████▌    | 201/360 [01:03<00:57,  2.77it/s]"
     ]
    },
    {
     "name": "stdout",
     "output_type": "stream",
     "text": [
      "\n",
      "0: 1024x800 1 table, 277.7ms\n",
      "Speed: 7.0ms preprocess, 277.7ms inference, 1.1ms postprocess per image at shape (1, 3, 1024, 800)\n"
     ]
    },
    {
     "name": "stderr",
     "output_type": "stream",
     "text": [
      "\r",
      " 56%|█████▌    | 202/360 [01:03<00:54,  2.89it/s]"
     ]
    },
    {
     "name": "stdout",
     "output_type": "stream",
     "text": [
      "\n",
      "0: 1024x768 2 tables, 282.6ms\n",
      "Speed: 5.1ms preprocess, 282.6ms inference, 0.6ms postprocess per image at shape (1, 3, 1024, 768)\n"
     ]
    },
    {
     "name": "stderr",
     "output_type": "stream",
     "text": [
      "\r",
      " 56%|█████▋    | 203/360 [01:03<00:52,  3.02it/s]"
     ]
    },
    {
     "name": "stdout",
     "output_type": "stream",
     "text": [
      "\n",
      "0: 1024x800 1 table, 343.8ms\n",
      "Speed: 11.6ms preprocess, 343.8ms inference, 0.9ms postprocess per image at shape (1, 3, 1024, 800)\n"
     ]
    },
    {
     "name": "stderr",
     "output_type": "stream",
     "text": [
      "\r",
      " 57%|█████▋    | 204/360 [01:04<00:57,  2.72it/s]"
     ]
    },
    {
     "name": "stdout",
     "output_type": "stream",
     "text": [
      "\n",
      "0: 1024x800 2 tables, 310.3ms\n",
      "Speed: 11.0ms preprocess, 310.3ms inference, 1.2ms postprocess per image at shape (1, 3, 1024, 800)\n"
     ]
    },
    {
     "name": "stderr",
     "output_type": "stream",
     "text": [
      "\r",
      " 57%|█████▋    | 205/360 [01:04<00:59,  2.61it/s]"
     ]
    },
    {
     "name": "stdout",
     "output_type": "stream",
     "text": [
      "\n",
      "0: 1024x672 1 table, 245.2ms\n",
      "Speed: 7.2ms preprocess, 245.2ms inference, 1.1ms postprocess per image at shape (1, 3, 1024, 672)\n"
     ]
    },
    {
     "name": "stderr",
     "output_type": "stream",
     "text": [
      "\r",
      " 57%|█████▋    | 206/360 [01:05<00:54,  2.80it/s]"
     ]
    },
    {
     "name": "stdout",
     "output_type": "stream",
     "text": [
      "\n",
      "0: 1024x800 1 table, 291.8ms\n",
      "Speed: 8.6ms preprocess, 291.8ms inference, 0.6ms postprocess per image at shape (1, 3, 1024, 800)\n"
     ]
    },
    {
     "name": "stderr",
     "output_type": "stream",
     "text": [
      "\r",
      " 57%|█████▊    | 207/360 [01:05<00:55,  2.73it/s]"
     ]
    },
    {
     "name": "stdout",
     "output_type": "stream",
     "text": [
      "\n",
      "0: 1024x800 3 tables, 293.4ms\n",
      "Speed: 5.7ms preprocess, 293.4ms inference, 0.9ms postprocess per image at shape (1, 3, 1024, 800)\n"
     ]
    },
    {
     "name": "stderr",
     "output_type": "stream",
     "text": [
      "\r",
      " 58%|█████▊    | 208/360 [01:05<00:52,  2.87it/s]"
     ]
    },
    {
     "name": "stdout",
     "output_type": "stream",
     "text": [
      "\n",
      "0: 1024x800 1 table, 302.7ms\n",
      "Speed: 9.8ms preprocess, 302.7ms inference, 0.6ms postprocess per image at shape (1, 3, 1024, 800)\n"
     ]
    },
    {
     "name": "stderr",
     "output_type": "stream",
     "text": [
      "\r",
      " 58%|█████▊    | 209/360 [01:06<00:54,  2.75it/s]"
     ]
    },
    {
     "name": "stdout",
     "output_type": "stream",
     "text": [
      "\n",
      "0: 1024x736 2 tables, 265.2ms\n",
      "Speed: 9.2ms preprocess, 265.2ms inference, 0.9ms postprocess per image at shape (1, 3, 1024, 736)\n"
     ]
    },
    {
     "name": "stderr",
     "output_type": "stream",
     "text": [
      "\r",
      " 58%|█████▊    | 210/360 [01:06<00:54,  2.74it/s]"
     ]
    },
    {
     "name": "stdout",
     "output_type": "stream",
     "text": [
      "\n",
      "0: 1024x736 2 tables, 275.1ms\n",
      "Speed: 6.0ms preprocess, 275.1ms inference, 0.9ms postprocess per image at shape (1, 3, 1024, 736)\n"
     ]
    },
    {
     "name": "stderr",
     "output_type": "stream",
     "text": [
      "\r",
      " 59%|█████▊    | 211/360 [01:06<00:51,  2.92it/s]"
     ]
    },
    {
     "name": "stdout",
     "output_type": "stream",
     "text": [
      "\n",
      "0: 1024x768 1 table, 288.6ms\n",
      "Speed: 7.2ms preprocess, 288.6ms inference, 0.6ms postprocess per image at shape (1, 3, 1024, 768)\n"
     ]
    },
    {
     "name": "stderr",
     "output_type": "stream",
     "text": [
      "\r",
      " 59%|█████▉    | 212/360 [01:07<00:49,  3.00it/s]"
     ]
    },
    {
     "name": "stdout",
     "output_type": "stream",
     "text": [
      "\n",
      "0: 1024x800 1 table, 305.4ms\n",
      "Speed: 8.9ms preprocess, 305.4ms inference, 0.9ms postprocess per image at shape (1, 3, 1024, 800)\n"
     ]
    },
    {
     "name": "stderr",
     "output_type": "stream",
     "text": [
      "\r",
      " 59%|█████▉    | 213/360 [01:07<00:51,  2.83it/s]"
     ]
    },
    {
     "name": "stdout",
     "output_type": "stream",
     "text": [
      "\n",
      "0: 1024x768 1 table, 318.4ms\n",
      "Speed: 6.5ms preprocess, 318.4ms inference, 1.0ms postprocess per image at shape (1, 3, 1024, 768)\n"
     ]
    },
    {
     "name": "stderr",
     "output_type": "stream",
     "text": [
      "\r",
      " 59%|█████▉    | 214/360 [01:07<00:50,  2.87it/s]"
     ]
    },
    {
     "name": "stdout",
     "output_type": "stream",
     "text": [
      "\n",
      "0: 1024x768 2 tables, 287.8ms\n",
      "Speed: 9.3ms preprocess, 287.8ms inference, 0.6ms postprocess per image at shape (1, 3, 1024, 768)\n"
     ]
    },
    {
     "name": "stderr",
     "output_type": "stream",
     "text": [
      "\r",
      " 60%|█████▉    | 215/360 [01:08<00:49,  2.92it/s]"
     ]
    },
    {
     "name": "stdout",
     "output_type": "stream",
     "text": [
      "\n",
      "0: 1024x800 1 table, 366.4ms\n",
      "Speed: 6.9ms preprocess, 366.4ms inference, 1.1ms postprocess per image at shape (1, 3, 1024, 800)\n"
     ]
    },
    {
     "name": "stderr",
     "output_type": "stream",
     "text": [
      "\r",
      " 60%|██████    | 216/360 [01:08<00:51,  2.81it/s]"
     ]
    },
    {
     "name": "stdout",
     "output_type": "stream",
     "text": [
      "\n",
      "0: 1024x736 1 table, 263.5ms\n",
      "Speed: 7.0ms preprocess, 263.5ms inference, 0.6ms postprocess per image at shape (1, 3, 1024, 736)\n"
     ]
    },
    {
     "name": "stderr",
     "output_type": "stream",
     "text": [
      "\r",
      " 60%|██████    | 217/360 [01:08<00:47,  2.99it/s]"
     ]
    },
    {
     "name": "stdout",
     "output_type": "stream",
     "text": [
      "\n",
      "0: 1024x800 1 table, 292.6ms\n",
      "Speed: 6.2ms preprocess, 292.6ms inference, 0.6ms postprocess per image at shape (1, 3, 1024, 800)\n"
     ]
    },
    {
     "name": "stderr",
     "output_type": "stream",
     "text": [
      "\r",
      " 61%|██████    | 218/360 [01:09<00:46,  3.06it/s]"
     ]
    },
    {
     "name": "stdout",
     "output_type": "stream",
     "text": [
      "\n",
      "0: 1024x736 1 table, 277.1ms\n",
      "Speed: 6.1ms preprocess, 277.1ms inference, 0.5ms postprocess per image at shape (1, 3, 1024, 736)\n"
     ]
    },
    {
     "name": "stderr",
     "output_type": "stream",
     "text": [
      "\r",
      " 61%|██████    | 219/360 [01:09<00:44,  3.16it/s]"
     ]
    },
    {
     "name": "stdout",
     "output_type": "stream",
     "text": [
      "\n",
      "0: 1024x832 2 tables, 306.2ms\n",
      "Speed: 18.1ms preprocess, 306.2ms inference, 0.8ms postprocess per image at shape (1, 3, 1024, 832)\n"
     ]
    },
    {
     "name": "stderr",
     "output_type": "stream",
     "text": [
      "\r",
      " 61%|██████    | 220/360 [01:09<00:45,  3.09it/s]"
     ]
    },
    {
     "name": "stdout",
     "output_type": "stream",
     "text": [
      "\n",
      "0: 1024x800 1 table, 310.4ms\n",
      "Speed: 10.8ms preprocess, 310.4ms inference, 0.7ms postprocess per image at shape (1, 3, 1024, 800)\n"
     ]
    },
    {
     "name": "stderr",
     "output_type": "stream",
     "text": [
      "\r",
      " 61%|██████▏   | 221/360 [01:10<00:48,  2.87it/s]"
     ]
    },
    {
     "name": "stdout",
     "output_type": "stream",
     "text": [
      "\n",
      "0: 1024x736 1 table, 264.3ms\n",
      "Speed: 6.2ms preprocess, 264.3ms inference, 1.2ms postprocess per image at shape (1, 3, 1024, 736)\n"
     ]
    },
    {
     "name": "stderr",
     "output_type": "stream",
     "text": [
      "\r",
      " 62%|██████▏   | 222/360 [01:10<00:45,  3.05it/s]"
     ]
    },
    {
     "name": "stdout",
     "output_type": "stream",
     "text": [
      "\n",
      "0: 1024x768 2 tables, 300.1ms\n",
      "Speed: 20.1ms preprocess, 300.1ms inference, 0.6ms postprocess per image at shape (1, 3, 1024, 768)\n"
     ]
    },
    {
     "name": "stderr",
     "output_type": "stream",
     "text": [
      "\r",
      " 62%|██████▏   | 223/360 [01:10<00:45,  2.99it/s]"
     ]
    },
    {
     "name": "stdout",
     "output_type": "stream",
     "text": [
      "\n",
      "0: 1024x768 1 table, 285.7ms\n",
      "Speed: 7.1ms preprocess, 285.7ms inference, 0.8ms postprocess per image at shape (1, 3, 1024, 768)\n"
     ]
    },
    {
     "name": "stderr",
     "output_type": "stream",
     "text": [
      "\r",
      " 62%|██████▏   | 224/360 [01:11<00:44,  3.08it/s]"
     ]
    },
    {
     "name": "stdout",
     "output_type": "stream",
     "text": [
      "\n",
      "0: 1024x672 1 table, 281.4ms\n",
      "Speed: 13.9ms preprocess, 281.4ms inference, 0.6ms postprocess per image at shape (1, 3, 1024, 672)\n"
     ]
    },
    {
     "name": "stderr",
     "output_type": "stream",
     "text": [
      "\r",
      " 62%|██████▎   | 225/360 [01:11<00:44,  3.02it/s]"
     ]
    },
    {
     "name": "stdout",
     "output_type": "stream",
     "text": [
      "\n",
      "0: 1024x736 1 table, 288.3ms\n",
      "Speed: 7.8ms preprocess, 288.3ms inference, 1.2ms postprocess per image at shape (1, 3, 1024, 736)\n"
     ]
    },
    {
     "name": "stderr",
     "output_type": "stream",
     "text": [
      "\r",
      " 63%|██████▎   | 226/360 [01:11<00:43,  3.09it/s]"
     ]
    },
    {
     "name": "stdout",
     "output_type": "stream",
     "text": [
      "\n",
      "0: 1024x800 1 table, 302.0ms\n",
      "Speed: 8.0ms preprocess, 302.0ms inference, 0.7ms postprocess per image at shape (1, 3, 1024, 800)\n"
     ]
    },
    {
     "name": "stderr",
     "output_type": "stream",
     "text": [
      "\r",
      " 63%|██████▎   | 227/360 [01:12<00:44,  3.02it/s]"
     ]
    },
    {
     "name": "stdout",
     "output_type": "stream",
     "text": [
      "\n",
      "0: 1024x800 1 table, 305.6ms\n",
      "Speed: 7.6ms preprocess, 305.6ms inference, 0.7ms postprocess per image at shape (1, 3, 1024, 800)\n"
     ]
    },
    {
     "name": "stderr",
     "output_type": "stream",
     "text": [
      "\r",
      " 63%|██████▎   | 228/360 [01:12<00:44,  2.98it/s]"
     ]
    },
    {
     "name": "stdout",
     "output_type": "stream",
     "text": [
      "\n",
      "0: 1024x736 3 tables, 280.3ms\n",
      "Speed: 7.8ms preprocess, 280.3ms inference, 0.6ms postprocess per image at shape (1, 3, 1024, 736)\n"
     ]
    },
    {
     "name": "stderr",
     "output_type": "stream",
     "text": [
      "\r",
      " 64%|██████▎   | 229/360 [01:12<00:42,  3.07it/s]"
     ]
    },
    {
     "name": "stdout",
     "output_type": "stream",
     "text": [
      "\n",
      "0: 1024x768 1 table, 291.8ms\n",
      "Speed: 11.1ms preprocess, 291.8ms inference, 1.1ms postprocess per image at shape (1, 3, 1024, 768)\n"
     ]
    },
    {
     "name": "stderr",
     "output_type": "stream",
     "text": [
      "\r",
      " 64%|██████▍   | 230/360 [01:13<00:42,  3.03it/s]"
     ]
    },
    {
     "name": "stdout",
     "output_type": "stream",
     "text": [
      "\n",
      "0: 1024x800 1 table, 289.1ms\n",
      "Speed: 10.3ms preprocess, 289.1ms inference, 0.5ms postprocess per image at shape (1, 3, 1024, 800)\n"
     ]
    },
    {
     "name": "stderr",
     "output_type": "stream",
     "text": [
      "\r",
      " 64%|██████▍   | 231/360 [01:13<00:42,  3.06it/s]"
     ]
    },
    {
     "name": "stdout",
     "output_type": "stream",
     "text": [
      "\n",
      "0: 1024x736 2 tables, 273.0ms\n",
      "Speed: 5.4ms preprocess, 273.0ms inference, 3.2ms postprocess per image at shape (1, 3, 1024, 736)\n"
     ]
    },
    {
     "name": "stderr",
     "output_type": "stream",
     "text": [
      "\r",
      " 64%|██████▍   | 232/360 [01:13<00:40,  3.15it/s]"
     ]
    },
    {
     "name": "stdout",
     "output_type": "stream",
     "text": [
      "\n",
      "0: 1024x736 3 tables, 295.3ms\n",
      "Speed: 6.7ms preprocess, 295.3ms inference, 0.6ms postprocess per image at shape (1, 3, 1024, 736)\n"
     ]
    },
    {
     "name": "stderr",
     "output_type": "stream",
     "text": [
      "\r",
      " 65%|██████▍   | 233/360 [01:14<00:40,  3.16it/s]"
     ]
    },
    {
     "name": "stdout",
     "output_type": "stream",
     "text": [
      "\n",
      "0: 1024x736 2 tables, 273.1ms\n",
      "Speed: 8.2ms preprocess, 273.1ms inference, 0.6ms postprocess per image at shape (1, 3, 1024, 736)\n"
     ]
    },
    {
     "name": "stderr",
     "output_type": "stream",
     "text": [
      "\r",
      " 65%|██████▌   | 234/360 [01:14<00:40,  3.13it/s]"
     ]
    },
    {
     "name": "stdout",
     "output_type": "stream",
     "text": [
      "\n",
      "0: 1024x736 2 tables, 273.1ms\n",
      "Speed: 18.8ms preprocess, 273.1ms inference, 0.8ms postprocess per image at shape (1, 3, 1024, 736)\n"
     ]
    },
    {
     "name": "stderr",
     "output_type": "stream",
     "text": [
      "\r",
      " 65%|██████▌   | 235/360 [01:14<00:39,  3.17it/s]"
     ]
    },
    {
     "name": "stdout",
     "output_type": "stream",
     "text": [
      "\n",
      "0: 1024x800 2 tables, 347.7ms\n",
      "Speed: 7.2ms preprocess, 347.7ms inference, 0.8ms postprocess per image at shape (1, 3, 1024, 800)\n"
     ]
    },
    {
     "name": "stderr",
     "output_type": "stream",
     "text": [
      "\r",
      " 66%|██████▌   | 236/360 [01:15<00:41,  2.96it/s]"
     ]
    },
    {
     "name": "stdout",
     "output_type": "stream",
     "text": [
      "\n",
      "0: 1024x800 1 table, 336.6ms\n",
      "Speed: 8.8ms preprocess, 336.6ms inference, 0.6ms postprocess per image at shape (1, 3, 1024, 800)\n"
     ]
    },
    {
     "name": "stderr",
     "output_type": "stream",
     "text": [
      "\r",
      " 66%|██████▌   | 237/360 [01:15<00:42,  2.86it/s]"
     ]
    },
    {
     "name": "stdout",
     "output_type": "stream",
     "text": [
      "\n",
      "0: 1024x800 1 table, 305.7ms\n",
      "Speed: 10.6ms preprocess, 305.7ms inference, 0.6ms postprocess per image at shape (1, 3, 1024, 800)\n"
     ]
    },
    {
     "name": "stderr",
     "output_type": "stream",
     "text": [
      "\r",
      " 66%|██████▌   | 238/360 [01:15<00:44,  2.72it/s]"
     ]
    },
    {
     "name": "stdout",
     "output_type": "stream",
     "text": [
      "\n",
      "0: 1024x736 1 table, 268.9ms\n",
      "Speed: 6.6ms preprocess, 268.9ms inference, 1.4ms postprocess per image at shape (1, 3, 1024, 736)\n"
     ]
    },
    {
     "name": "stderr",
     "output_type": "stream",
     "text": [
      "\r",
      " 66%|██████▋   | 239/360 [01:16<00:41,  2.91it/s]"
     ]
    },
    {
     "name": "stdout",
     "output_type": "stream",
     "text": [
      "\n",
      "0: 1024x736 1 table, 272.6ms\n",
      "Speed: 8.9ms preprocess, 272.6ms inference, 0.6ms postprocess per image at shape (1, 3, 1024, 736)\n"
     ]
    },
    {
     "name": "stderr",
     "output_type": "stream",
     "text": [
      "\r",
      " 67%|██████▋   | 240/360 [01:16<00:42,  2.85it/s]"
     ]
    },
    {
     "name": "stdout",
     "output_type": "stream",
     "text": [
      "\n",
      "0: 1024x736 2 tables, 285.1ms\n",
      "Speed: 9.4ms preprocess, 285.1ms inference, 1.3ms postprocess per image at shape (1, 3, 1024, 736)\n"
     ]
    },
    {
     "name": "stderr",
     "output_type": "stream",
     "text": [
      "\r",
      " 67%|██████▋   | 241/360 [01:16<00:41,  2.89it/s]"
     ]
    },
    {
     "name": "stdout",
     "output_type": "stream",
     "text": [
      "\n",
      "0: 1024x800 1 table, 281.8ms\n",
      "Speed: 9.7ms preprocess, 281.8ms inference, 0.6ms postprocess per image at shape (1, 3, 1024, 800)\n"
     ]
    },
    {
     "name": "stderr",
     "output_type": "stream",
     "text": [
      "\r",
      " 67%|██████▋   | 242/360 [01:17<00:41,  2.82it/s]"
     ]
    },
    {
     "name": "stdout",
     "output_type": "stream",
     "text": [
      "\n",
      "0: 1024x768 2 tables, 269.5ms\n",
      "Speed: 8.1ms preprocess, 269.5ms inference, 1.2ms postprocess per image at shape (1, 3, 1024, 768)\n"
     ]
    },
    {
     "name": "stderr",
     "output_type": "stream",
     "text": [
      "\r",
      " 68%|██████▊   | 243/360 [01:17<00:39,  2.95it/s]"
     ]
    },
    {
     "name": "stdout",
     "output_type": "stream",
     "text": [
      "\n",
      "0: 1024x800 3 tables, 278.8ms\n",
      "Speed: 6.5ms preprocess, 278.8ms inference, 0.7ms postprocess per image at shape (1, 3, 1024, 800)\n"
     ]
    },
    {
     "name": "stderr",
     "output_type": "stream",
     "text": [
      "\r",
      " 68%|██████▊   | 244/360 [01:17<00:38,  3.02it/s]"
     ]
    },
    {
     "name": "stdout",
     "output_type": "stream",
     "text": [
      "\n",
      "0: 1024x672 1 table, 264.3ms\n",
      "Speed: 7.4ms preprocess, 264.3ms inference, 3.4ms postprocess per image at shape (1, 3, 1024, 672)\n"
     ]
    },
    {
     "name": "stderr",
     "output_type": "stream",
     "text": [
      "\r",
      " 68%|██████▊   | 245/360 [01:18<00:37,  3.05it/s]"
     ]
    },
    {
     "name": "stdout",
     "output_type": "stream",
     "text": [
      "\n",
      "0: 1024x800 1 table, 298.8ms\n",
      "Speed: 11.0ms preprocess, 298.8ms inference, 0.6ms postprocess per image at shape (1, 3, 1024, 800)\n"
     ]
    },
    {
     "name": "stderr",
     "output_type": "stream",
     "text": [
      "\r",
      " 68%|██████▊   | 246/360 [01:18<00:37,  3.04it/s]"
     ]
    },
    {
     "name": "stdout",
     "output_type": "stream",
     "text": [
      "\n",
      "0: 1024x800 2 tables, 297.8ms\n",
      "Speed: 8.3ms preprocess, 297.8ms inference, 3.3ms postprocess per image at shape (1, 3, 1024, 800)\n"
     ]
    },
    {
     "name": "stderr",
     "output_type": "stream",
     "text": [
      "\r",
      " 69%|██████▊   | 247/360 [01:18<00:37,  3.03it/s]"
     ]
    },
    {
     "name": "stdout",
     "output_type": "stream",
     "text": [
      "\n",
      "0: 1024x800 1 table, 304.4ms\n",
      "Speed: 22.3ms preprocess, 304.4ms inference, 1.1ms postprocess per image at shape (1, 3, 1024, 800)\n"
     ]
    },
    {
     "name": "stderr",
     "output_type": "stream",
     "text": [
      "\r",
      " 69%|██████▉   | 248/360 [01:19<00:39,  2.81it/s]"
     ]
    },
    {
     "name": "stdout",
     "output_type": "stream",
     "text": [
      "\n",
      "0: 1024x800 1 table, 302.0ms\n",
      "Speed: 8.4ms preprocess, 302.0ms inference, 1.3ms postprocess per image at shape (1, 3, 1024, 800)\n"
     ]
    },
    {
     "name": "stderr",
     "output_type": "stream",
     "text": [
      "\r",
      " 69%|██████▉   | 249/360 [01:19<00:40,  2.73it/s]"
     ]
    },
    {
     "name": "stdout",
     "output_type": "stream",
     "text": [
      "\n",
      "0: 1024x800 2 tables, 302.9ms\n",
      "Speed: 13.8ms preprocess, 302.9ms inference, 1.1ms postprocess per image at shape (1, 3, 1024, 800)\n"
     ]
    },
    {
     "name": "stderr",
     "output_type": "stream",
     "text": [
      "\r",
      " 69%|██████▉   | 250/360 [01:20<00:41,  2.65it/s]"
     ]
    },
    {
     "name": "stdout",
     "output_type": "stream",
     "text": [
      "\n",
      "0: 1024x800 1 table, 298.4ms\n",
      "Speed: 7.6ms preprocess, 298.4ms inference, 1.5ms postprocess per image at shape (1, 3, 1024, 800)\n"
     ]
    },
    {
     "name": "stderr",
     "output_type": "stream",
     "text": [
      "\r",
      " 70%|██████▉   | 251/360 [01:20<00:39,  2.79it/s]"
     ]
    },
    {
     "name": "stdout",
     "output_type": "stream",
     "text": [
      "\n",
      "0: 1024x800 1 table, 288.3ms\n",
      "Speed: 9.6ms preprocess, 288.3ms inference, 1.1ms postprocess per image at shape (1, 3, 1024, 800)\n"
     ]
    },
    {
     "name": "stderr",
     "output_type": "stream",
     "text": [
      "\r",
      " 70%|███████   | 252/360 [01:20<00:40,  2.70it/s]"
     ]
    },
    {
     "name": "stdout",
     "output_type": "stream",
     "text": [
      "\n",
      "0: 1024x736 1 table, 265.7ms\n",
      "Speed: 12.9ms preprocess, 265.7ms inference, 1.6ms postprocess per image at shape (1, 3, 1024, 736)\n"
     ]
    },
    {
     "name": "stderr",
     "output_type": "stream",
     "text": [
      "\r",
      " 70%|███████   | 253/360 [01:21<00:39,  2.69it/s]"
     ]
    },
    {
     "name": "stdout",
     "output_type": "stream",
     "text": [
      "\n",
      "0: 1024x800 2 tables, 299.2ms\n",
      "Speed: 7.9ms preprocess, 299.2ms inference, 1.1ms postprocess per image at shape (1, 3, 1024, 800)\n"
     ]
    },
    {
     "name": "stderr",
     "output_type": "stream",
     "text": [
      "\r",
      " 71%|███████   | 254/360 [01:21<00:38,  2.78it/s]"
     ]
    },
    {
     "name": "stdout",
     "output_type": "stream",
     "text": [
      "\n",
      "0: 1024x736 2 tables, 255.8ms\n",
      "Speed: 6.0ms preprocess, 255.8ms inference, 0.7ms postprocess per image at shape (1, 3, 1024, 736)\n"
     ]
    },
    {
     "name": "stderr",
     "output_type": "stream",
     "text": [
      "\r",
      " 71%|███████   | 255/360 [01:21<00:35,  2.99it/s]"
     ]
    },
    {
     "name": "stdout",
     "output_type": "stream",
     "text": [
      "\n",
      "0: 1024x768 (no detections), 264.2ms\n",
      "Speed: 9.5ms preprocess, 264.2ms inference, 0.4ms postprocess per image at shape (1, 3, 1024, 768)\n"
     ]
    },
    {
     "name": "stderr",
     "output_type": "stream",
     "text": [
      "\r",
      " 71%|███████   | 256/360 [01:22<00:35,  2.92it/s]"
     ]
    },
    {
     "name": "stdout",
     "output_type": "stream",
     "text": [
      "\n",
      "0: 1024x800 2 tables, 277.5ms\n",
      "Speed: 7.8ms preprocess, 277.5ms inference, 0.8ms postprocess per image at shape (1, 3, 1024, 800)\n"
     ]
    },
    {
     "name": "stderr",
     "output_type": "stream",
     "text": [
      "\r",
      " 71%|███████▏  | 257/360 [01:22<00:34,  3.00it/s]"
     ]
    },
    {
     "name": "stdout",
     "output_type": "stream",
     "text": [
      "\n",
      "0: 1024x672 1 table, 230.6ms\n",
      "Speed: 8.8ms preprocess, 230.6ms inference, 0.7ms postprocess per image at shape (1, 3, 1024, 672)\n"
     ]
    },
    {
     "name": "stderr",
     "output_type": "stream",
     "text": [
      "\r",
      " 72%|███████▏  | 258/360 [01:22<00:32,  3.15it/s]"
     ]
    },
    {
     "name": "stdout",
     "output_type": "stream",
     "text": [
      "\n",
      "0: 1024x800 1 table, 273.2ms\n",
      "Speed: 9.1ms preprocess, 273.2ms inference, 4.6ms postprocess per image at shape (1, 3, 1024, 800)\n"
     ]
    },
    {
     "name": "stderr",
     "output_type": "stream",
     "text": [
      "\r",
      " 72%|███████▏  | 259/360 [01:23<00:33,  3.01it/s]"
     ]
    },
    {
     "name": "stdout",
     "output_type": "stream",
     "text": [
      "\n",
      "0: 1024x736 1 table, 258.5ms\n",
      "Speed: 7.2ms preprocess, 258.5ms inference, 1.5ms postprocess per image at shape (1, 3, 1024, 736)\n"
     ]
    },
    {
     "name": "stderr",
     "output_type": "stream",
     "text": [
      "\r",
      " 72%|███████▏  | 260/360 [01:23<00:31,  3.17it/s]"
     ]
    },
    {
     "name": "stdout",
     "output_type": "stream",
     "text": [
      "\n",
      "0: 1024x800 3 tables, 346.6ms\n",
      "Speed: 7.9ms preprocess, 346.6ms inference, 0.7ms postprocess per image at shape (1, 3, 1024, 800)\n"
     ]
    },
    {
     "name": "stderr",
     "output_type": "stream",
     "text": [
      "\r",
      " 72%|███████▎  | 261/360 [01:23<00:32,  3.01it/s]"
     ]
    },
    {
     "name": "stdout",
     "output_type": "stream",
     "text": [
      "\n",
      "0: 1024x736 1 table, 259.1ms\n",
      "Speed: 7.7ms preprocess, 259.1ms inference, 1.1ms postprocess per image at shape (1, 3, 1024, 736)\n"
     ]
    },
    {
     "name": "stderr",
     "output_type": "stream",
     "text": [
      "\r",
      " 73%|███████▎  | 262/360 [01:23<00:31,  3.16it/s]"
     ]
    },
    {
     "name": "stdout",
     "output_type": "stream",
     "text": [
      "\n",
      "0: 1024x800 1 table, 282.2ms\n",
      "Speed: 9.4ms preprocess, 282.2ms inference, 0.6ms postprocess per image at shape (1, 3, 1024, 800)\n"
     ]
    },
    {
     "name": "stderr",
     "output_type": "stream",
     "text": [
      "\r",
      " 73%|███████▎  | 263/360 [01:24<00:30,  3.16it/s]"
     ]
    },
    {
     "name": "stdout",
     "output_type": "stream",
     "text": [
      "\n",
      "0: 1024x768 2 tables, 276.7ms\n",
      "Speed: 5.5ms preprocess, 276.7ms inference, 0.6ms postprocess per image at shape (1, 3, 1024, 768)\n"
     ]
    },
    {
     "name": "stderr",
     "output_type": "stream",
     "text": [
      "\r",
      " 73%|███████▎  | 264/360 [01:24<00:29,  3.24it/s]"
     ]
    },
    {
     "name": "stdout",
     "output_type": "stream",
     "text": [
      "\n",
      "0: 1024x800 1 table, 282.3ms\n",
      "Speed: 7.4ms preprocess, 282.3ms inference, 0.7ms postprocess per image at shape (1, 3, 1024, 800)\n"
     ]
    },
    {
     "name": "stderr",
     "output_type": "stream",
     "text": [
      "\r",
      " 74%|███████▎  | 265/360 [01:24<00:29,  3.22it/s]"
     ]
    },
    {
     "name": "stdout",
     "output_type": "stream",
     "text": [
      "\n",
      "0: 1024x768 2 tables, 271.3ms\n",
      "Speed: 6.5ms preprocess, 271.3ms inference, 0.6ms postprocess per image at shape (1, 3, 1024, 768)\n"
     ]
    },
    {
     "name": "stderr",
     "output_type": "stream",
     "text": [
      "\r",
      " 74%|███████▍  | 266/360 [01:25<00:28,  3.29it/s]"
     ]
    },
    {
     "name": "stdout",
     "output_type": "stream",
     "text": [
      "\n",
      "0: 1024x768 1 table, 268.9ms\n",
      "Speed: 6.2ms preprocess, 268.9ms inference, 0.9ms postprocess per image at shape (1, 3, 1024, 768)\n"
     ]
    },
    {
     "name": "stderr",
     "output_type": "stream",
     "text": [
      "\r",
      " 74%|███████▍  | 267/360 [01:25<00:27,  3.36it/s]"
     ]
    },
    {
     "name": "stdout",
     "output_type": "stream",
     "text": [
      "\n",
      "0: 1024x736 1 table, 255.8ms\n",
      "Speed: 6.1ms preprocess, 255.8ms inference, 0.7ms postprocess per image at shape (1, 3, 1024, 736)\n"
     ]
    },
    {
     "name": "stderr",
     "output_type": "stream",
     "text": [
      "\r",
      " 74%|███████▍  | 268/360 [01:25<00:26,  3.44it/s]"
     ]
    },
    {
     "name": "stdout",
     "output_type": "stream",
     "text": [
      "\n",
      "0: 1024x800 1 table, 276.9ms\n",
      "Speed: 9.8ms preprocess, 276.9ms inference, 0.6ms postprocess per image at shape (1, 3, 1024, 800)\n"
     ]
    },
    {
     "name": "stderr",
     "output_type": "stream",
     "text": [
      "\r",
      " 75%|███████▍  | 269/360 [01:26<00:28,  3.15it/s]"
     ]
    },
    {
     "name": "stdout",
     "output_type": "stream",
     "text": [
      "\n",
      "0: 1024x736 1 table, 256.8ms\n",
      "Speed: 4.9ms preprocess, 256.8ms inference, 1.0ms postprocess per image at shape (1, 3, 1024, 736)\n"
     ]
    },
    {
     "name": "stderr",
     "output_type": "stream",
     "text": [
      "\r",
      " 75%|███████▌  | 270/360 [01:26<00:27,  3.29it/s]"
     ]
    },
    {
     "name": "stdout",
     "output_type": "stream",
     "text": [
      "\n",
      "0: 1024x736 1 table, 254.0ms\n",
      "Speed: 5.3ms preprocess, 254.0ms inference, 0.6ms postprocess per image at shape (1, 3, 1024, 736)\n"
     ]
    },
    {
     "name": "stderr",
     "output_type": "stream",
     "text": [
      "\r",
      " 75%|███████▌  | 271/360 [01:26<00:26,  3.41it/s]"
     ]
    },
    {
     "name": "stdout",
     "output_type": "stream",
     "text": [
      "\n",
      "0: 1024x736 5 tables, 255.0ms\n",
      "Speed: 6.5ms preprocess, 255.0ms inference, 0.6ms postprocess per image at shape (1, 3, 1024, 736)\n"
     ]
    },
    {
     "name": "stderr",
     "output_type": "stream",
     "text": [
      "\r",
      " 76%|███████▌  | 272/360 [01:26<00:25,  3.48it/s]"
     ]
    },
    {
     "name": "stdout",
     "output_type": "stream",
     "text": [
      "\n",
      "0: 1024x800 2 tables, 286.8ms\n",
      "Speed: 9.7ms preprocess, 286.8ms inference, 0.6ms postprocess per image at shape (1, 3, 1024, 800)\n"
     ]
    },
    {
     "name": "stderr",
     "output_type": "stream",
     "text": [
      "\r",
      " 76%|███████▌  | 273/360 [01:27<00:26,  3.34it/s]"
     ]
    },
    {
     "name": "stdout",
     "output_type": "stream",
     "text": [
      "\n",
      "0: 1024x800 2 tables, 288.7ms\n",
      "Speed: 7.0ms preprocess, 288.7ms inference, 1.1ms postprocess per image at shape (1, 3, 1024, 800)\n"
     ]
    },
    {
     "name": "stderr",
     "output_type": "stream",
     "text": [
      "\r",
      " 76%|███████▌  | 274/360 [01:27<00:26,  3.30it/s]"
     ]
    },
    {
     "name": "stdout",
     "output_type": "stream",
     "text": [
      "\n",
      "0: 1024x800 1 table, 282.5ms\n",
      "Speed: 6.8ms preprocess, 282.5ms inference, 0.8ms postprocess per image at shape (1, 3, 1024, 800)\n"
     ]
    },
    {
     "name": "stderr",
     "output_type": "stream",
     "text": [
      "\r",
      " 76%|███████▋  | 275/360 [01:27<00:26,  3.26it/s]"
     ]
    },
    {
     "name": "stdout",
     "output_type": "stream",
     "text": [
      "\n",
      "0: 1024x800 2 tables, 284.3ms\n",
      "Speed: 8.9ms preprocess, 284.3ms inference, 0.6ms postprocess per image at shape (1, 3, 1024, 800)\n"
     ]
    },
    {
     "name": "stderr",
     "output_type": "stream",
     "text": [
      "\r",
      " 77%|███████▋  | 276/360 [01:28<00:27,  3.06it/s]"
     ]
    },
    {
     "name": "stdout",
     "output_type": "stream",
     "text": [
      "\n",
      "0: 1024x800 1 table, 287.9ms\n",
      "Speed: 7.4ms preprocess, 287.9ms inference, 1.1ms postprocess per image at shape (1, 3, 1024, 800)\n"
     ]
    },
    {
     "name": "stderr",
     "output_type": "stream",
     "text": [
      "\r",
      " 77%|███████▋  | 277/360 [01:28<00:26,  3.08it/s]"
     ]
    },
    {
     "name": "stdout",
     "output_type": "stream",
     "text": [
      "\n",
      "0: 1024x800 1 table, 285.5ms\n",
      "Speed: 9.9ms preprocess, 285.5ms inference, 0.5ms postprocess per image at shape (1, 3, 1024, 800)\n"
     ]
    },
    {
     "name": "stderr",
     "output_type": "stream",
     "text": [
      "\r",
      " 77%|███████▋  | 278/360 [01:28<00:27,  2.94it/s]"
     ]
    },
    {
     "name": "stdout",
     "output_type": "stream",
     "text": [
      "\n",
      "0: 1024x800 2 tables, 280.9ms\n",
      "Speed: 8.0ms preprocess, 280.9ms inference, 0.9ms postprocess per image at shape (1, 3, 1024, 800)\n"
     ]
    },
    {
     "name": "stderr",
     "output_type": "stream",
     "text": [
      "\r",
      " 78%|███████▊  | 279/360 [01:29<00:26,  3.00it/s]"
     ]
    },
    {
     "name": "stdout",
     "output_type": "stream",
     "text": [
      "\n",
      "0: 1024x736 2 tables, 260.0ms\n",
      "Speed: 4.9ms preprocess, 260.0ms inference, 0.6ms postprocess per image at shape (1, 3, 1024, 736)\n"
     ]
    },
    {
     "name": "stderr",
     "output_type": "stream",
     "text": [
      "\r",
      " 78%|███████▊  | 280/360 [01:29<00:25,  3.17it/s]"
     ]
    },
    {
     "name": "stdout",
     "output_type": "stream",
     "text": [
      "\n",
      "0: 1024x736 1 table, 248.4ms\n",
      "Speed: 5.9ms preprocess, 248.4ms inference, 0.6ms postprocess per image at shape (1, 3, 1024, 736)\n"
     ]
    },
    {
     "name": "stderr",
     "output_type": "stream",
     "text": [
      "\r",
      " 78%|███████▊  | 281/360 [01:29<00:23,  3.33it/s]"
     ]
    },
    {
     "name": "stdout",
     "output_type": "stream",
     "text": [
      "\n",
      "0: 1024x800 2 tables, 274.8ms\n",
      "Speed: 9.9ms preprocess, 274.8ms inference, 0.6ms postprocess per image at shape (1, 3, 1024, 800)\n"
     ]
    },
    {
     "name": "stderr",
     "output_type": "stream",
     "text": [
      "\r",
      " 78%|███████▊  | 282/360 [01:30<00:25,  3.10it/s]"
     ]
    },
    {
     "name": "stdout",
     "output_type": "stream",
     "text": [
      "\n",
      "0: 1024x800 1 table, 281.3ms\n",
      "Speed: 7.1ms preprocess, 281.3ms inference, 1.1ms postprocess per image at shape (1, 3, 1024, 800)\n"
     ]
    },
    {
     "name": "stderr",
     "output_type": "stream",
     "text": [
      "\r",
      " 79%|███████▊  | 283/360 [01:30<00:24,  3.12it/s]"
     ]
    },
    {
     "name": "stdout",
     "output_type": "stream",
     "text": [
      "\n",
      "0: 1024x896 1 table, 315.3ms\n",
      "Speed: 8.5ms preprocess, 315.3ms inference, 0.6ms postprocess per image at shape (1, 3, 1024, 896)\n"
     ]
    },
    {
     "name": "stderr",
     "output_type": "stream",
     "text": [
      "\r",
      " 79%|███████▉  | 284/360 [01:30<00:24,  3.05it/s]"
     ]
    },
    {
     "name": "stdout",
     "output_type": "stream",
     "text": [
      "\n",
      "0: 1024x800 2 tables, 277.4ms\n",
      "Speed: 6.8ms preprocess, 277.4ms inference, 3.7ms postprocess per image at shape (1, 3, 1024, 800)\n"
     ]
    },
    {
     "name": "stderr",
     "output_type": "stream",
     "text": [
      "\r",
      " 79%|███████▉  | 285/360 [01:31<00:24,  3.10it/s]"
     ]
    },
    {
     "name": "stdout",
     "output_type": "stream",
     "text": [
      "\n",
      "0: 1024x800 1 table, 277.1ms\n",
      "Speed: 8.8ms preprocess, 277.1ms inference, 1.1ms postprocess per image at shape (1, 3, 1024, 800)\n"
     ]
    },
    {
     "name": "stderr",
     "output_type": "stream",
     "text": [
      "\r",
      " 79%|███████▉  | 286/360 [01:31<00:25,  2.93it/s]"
     ]
    },
    {
     "name": "stdout",
     "output_type": "stream",
     "text": [
      "\n",
      "0: 1024x800 1 table, 275.0ms\n",
      "Speed: 9.7ms preprocess, 275.0ms inference, 1.0ms postprocess per image at shape (1, 3, 1024, 800)\n"
     ]
    },
    {
     "name": "stderr",
     "output_type": "stream",
     "text": [
      "\r",
      " 80%|███████▉  | 287/360 [01:31<00:25,  2.85it/s]"
     ]
    },
    {
     "name": "stdout",
     "output_type": "stream",
     "text": [
      "\n",
      "0: 1024x736 2 tables, 251.9ms\n",
      "Speed: 5.9ms preprocess, 251.9ms inference, 0.8ms postprocess per image at shape (1, 3, 1024, 736)\n"
     ]
    },
    {
     "name": "stderr",
     "output_type": "stream",
     "text": [
      "\r",
      " 80%|████████  | 288/360 [01:32<00:23,  3.07it/s]"
     ]
    },
    {
     "name": "stdout",
     "output_type": "stream",
     "text": [
      "\n",
      "0: 1024x800 2 tables, 280.7ms\n",
      "Speed: 6.8ms preprocess, 280.7ms inference, 0.6ms postprocess per image at shape (1, 3, 1024, 800)\n"
     ]
    },
    {
     "name": "stderr",
     "output_type": "stream",
     "text": [
      "\r",
      " 80%|████████  | 289/360 [01:32<00:22,  3.12it/s]"
     ]
    },
    {
     "name": "stdout",
     "output_type": "stream",
     "text": [
      "\n",
      "0: 1024x800 2 tables, 286.2ms\n",
      "Speed: 7.8ms preprocess, 286.2ms inference, 0.6ms postprocess per image at shape (1, 3, 1024, 800)\n"
     ]
    },
    {
     "name": "stderr",
     "output_type": "stream",
     "text": [
      "\r",
      " 81%|████████  | 290/360 [01:32<00:22,  3.13it/s]"
     ]
    },
    {
     "name": "stdout",
     "output_type": "stream",
     "text": [
      "\n",
      "0: 1024x800 1 table, 290.0ms\n",
      "Speed: 9.2ms preprocess, 290.0ms inference, 0.6ms postprocess per image at shape (1, 3, 1024, 800)\n"
     ]
    },
    {
     "name": "stderr",
     "output_type": "stream",
     "text": [
      "\r",
      " 81%|████████  | 291/360 [01:33<00:23,  2.94it/s]"
     ]
    },
    {
     "name": "stdout",
     "output_type": "stream",
     "text": [
      "\n",
      "0: 1024x800 3 tables, 283.3ms\n",
      "Speed: 8.8ms preprocess, 283.3ms inference, 1.1ms postprocess per image at shape (1, 3, 1024, 800)\n"
     ]
    },
    {
     "name": "stderr",
     "output_type": "stream",
     "text": [
      "\r",
      " 81%|████████  | 292/360 [01:33<00:23,  2.85it/s]"
     ]
    },
    {
     "name": "stdout",
     "output_type": "stream",
     "text": [
      "\n",
      "0: 1024x736 1 table, 257.7ms\n",
      "Speed: 4.9ms preprocess, 257.7ms inference, 1.1ms postprocess per image at shape (1, 3, 1024, 736)\n"
     ]
    },
    {
     "name": "stderr",
     "output_type": "stream",
     "text": [
      "\r",
      " 81%|████████▏ | 293/360 [01:33<00:21,  3.05it/s]"
     ]
    },
    {
     "name": "stdout",
     "output_type": "stream",
     "text": [
      "\n",
      "0: 1024x800 1 table, 273.1ms\n",
      "Speed: 9.6ms preprocess, 273.1ms inference, 0.7ms postprocess per image at shape (1, 3, 1024, 800)\n"
     ]
    },
    {
     "name": "stderr",
     "output_type": "stream",
     "text": [
      "\r",
      " 82%|████████▏ | 294/360 [01:34<00:22,  2.95it/s]"
     ]
    },
    {
     "name": "stdout",
     "output_type": "stream",
     "text": [
      "\n",
      "0: 1024x800 1 table, 288.6ms\n",
      "Speed: 7.2ms preprocess, 288.6ms inference, 0.9ms postprocess per image at shape (1, 3, 1024, 800)\n"
     ]
    },
    {
     "name": "stderr",
     "output_type": "stream",
     "text": [
      "\r",
      " 82%|████████▏ | 295/360 [01:34<00:21,  3.03it/s]"
     ]
    },
    {
     "name": "stdout",
     "output_type": "stream",
     "text": [
      "\n",
      "0: 1024x768 2 tables, 277.9ms\n",
      "Speed: 7.7ms preprocess, 277.9ms inference, 1.1ms postprocess per image at shape (1, 3, 1024, 768)\n"
     ]
    },
    {
     "name": "stderr",
     "output_type": "stream",
     "text": [
      "\r",
      " 82%|████████▏ | 296/360 [01:34<00:20,  3.12it/s]"
     ]
    },
    {
     "name": "stdout",
     "output_type": "stream",
     "text": [
      "\n",
      "0: 1024x768 2 tables, 271.3ms\n",
      "Speed: 7.9ms preprocess, 271.3ms inference, 0.6ms postprocess per image at shape (1, 3, 1024, 768)\n"
     ]
    },
    {
     "name": "stderr",
     "output_type": "stream",
     "text": [
      "\r",
      " 82%|████████▎ | 297/360 [01:35<00:19,  3.15it/s]"
     ]
    },
    {
     "name": "stdout",
     "output_type": "stream",
     "text": [
      "\n",
      "0: 1024x768 1 table, 283.9ms\n",
      "Speed: 9.4ms preprocess, 283.9ms inference, 1.1ms postprocess per image at shape (1, 3, 1024, 768)\n"
     ]
    },
    {
     "name": "stderr",
     "output_type": "stream",
     "text": [
      "\r",
      " 83%|████████▎ | 298/360 [01:35<00:19,  3.12it/s]"
     ]
    },
    {
     "name": "stdout",
     "output_type": "stream",
     "text": [
      "\n",
      "0: 1024x800 2 tables, 280.8ms\n",
      "Speed: 9.7ms preprocess, 280.8ms inference, 6.6ms postprocess per image at shape (1, 3, 1024, 800)\n"
     ]
    },
    {
     "name": "stderr",
     "output_type": "stream",
     "text": [
      "\r",
      " 83%|████████▎ | 299/360 [01:35<00:21,  2.89it/s]"
     ]
    },
    {
     "name": "stdout",
     "output_type": "stream",
     "text": [
      "\n",
      "0: 1024x800 3 tables, 278.5ms\n",
      "Speed: 7.2ms preprocess, 278.5ms inference, 1.0ms postprocess per image at shape (1, 3, 1024, 800)\n"
     ]
    },
    {
     "name": "stderr",
     "output_type": "stream",
     "text": [
      "\r",
      " 83%|████████▎ | 300/360 [01:36<00:20,  2.99it/s]"
     ]
    },
    {
     "name": "stdout",
     "output_type": "stream",
     "text": [
      "\n",
      "0: 1024x800 1 table, 288.7ms\n",
      "Speed: 9.9ms preprocess, 288.7ms inference, 0.7ms postprocess per image at shape (1, 3, 1024, 800)\n"
     ]
    },
    {
     "name": "stderr",
     "output_type": "stream",
     "text": [
      "\r",
      " 84%|████████▎ | 301/360 [01:36<00:20,  2.88it/s]"
     ]
    },
    {
     "name": "stdout",
     "output_type": "stream",
     "text": [
      "\n",
      "0: 1024x800 (no detections), 271.0ms\n",
      "Speed: 9.8ms preprocess, 271.0ms inference, 0.7ms postprocess per image at shape (1, 3, 1024, 800)\n"
     ]
    },
    {
     "name": "stderr",
     "output_type": "stream",
     "text": [
      "\r",
      " 84%|████████▍ | 302/360 [01:36<00:20,  2.85it/s]"
     ]
    },
    {
     "name": "stdout",
     "output_type": "stream",
     "text": [
      "\n",
      "0: 1024x800 (no detections), 278.0ms\n",
      "Speed: 9.0ms preprocess, 278.0ms inference, 0.7ms postprocess per image at shape (1, 3, 1024, 800)\n"
     ]
    },
    {
     "name": "stderr",
     "output_type": "stream",
     "text": [
      "\r",
      " 84%|████████▍ | 303/360 [01:37<00:20,  2.81it/s]"
     ]
    },
    {
     "name": "stdout",
     "output_type": "stream",
     "text": [
      "\n",
      "0: 1024x736 3 tables, 252.7ms\n",
      "Speed: 5.0ms preprocess, 252.7ms inference, 1.2ms postprocess per image at shape (1, 3, 1024, 736)\n"
     ]
    },
    {
     "name": "stderr",
     "output_type": "stream",
     "text": [
      "\r",
      " 84%|████████▍ | 304/360 [01:37<00:18,  3.04it/s]"
     ]
    },
    {
     "name": "stdout",
     "output_type": "stream",
     "text": [
      "\n",
      "0: 1024x768 1 table, 270.6ms\n",
      "Speed: 6.1ms preprocess, 270.6ms inference, 0.6ms postprocess per image at shape (1, 3, 1024, 768)\n"
     ]
    },
    {
     "name": "stderr",
     "output_type": "stream",
     "text": [
      "\r",
      " 85%|████████▍ | 305/360 [01:37<00:17,  3.16it/s]"
     ]
    },
    {
     "name": "stdout",
     "output_type": "stream",
     "text": [
      "\n",
      "0: 1024x768 1 table, 272.9ms\n",
      "Speed: 8.6ms preprocess, 272.9ms inference, 1.1ms postprocess per image at shape (1, 3, 1024, 768)\n"
     ]
    },
    {
     "name": "stderr",
     "output_type": "stream",
     "text": [
      "\r",
      " 85%|████████▌ | 306/360 [01:38<00:16,  3.23it/s]"
     ]
    },
    {
     "name": "stdout",
     "output_type": "stream",
     "text": [
      "\n",
      "0: 1024x800 1 table, 276.2ms\n",
      "Speed: 9.3ms preprocess, 276.2ms inference, 0.6ms postprocess per image at shape (1, 3, 1024, 800)\n"
     ]
    },
    {
     "name": "stderr",
     "output_type": "stream",
     "text": [
      "\r",
      " 85%|████████▌ | 307/360 [01:38<00:17,  3.06it/s]"
     ]
    },
    {
     "name": "stdout",
     "output_type": "stream",
     "text": [
      "\n",
      "0: 1024x800 2 tables, 287.0ms\n",
      "Speed: 7.6ms preprocess, 287.0ms inference, 0.9ms postprocess per image at shape (1, 3, 1024, 800)\n"
     ]
    },
    {
     "name": "stderr",
     "output_type": "stream",
     "text": [
      "\r",
      " 86%|████████▌ | 308/360 [01:38<00:16,  3.09it/s]"
     ]
    },
    {
     "name": "stdout",
     "output_type": "stream",
     "text": [
      "\n",
      "0: 1024x800 2 tables, 292.2ms\n",
      "Speed: 7.2ms preprocess, 292.2ms inference, 0.7ms postprocess per image at shape (1, 3, 1024, 800)\n"
     ]
    },
    {
     "name": "stderr",
     "output_type": "stream",
     "text": [
      "\r",
      " 86%|████████▌ | 309/360 [01:39<00:16,  3.10it/s]"
     ]
    },
    {
     "name": "stdout",
     "output_type": "stream",
     "text": [
      "\n",
      "0: 1024x800 1 table, 279.6ms\n",
      "Speed: 5.8ms preprocess, 279.6ms inference, 0.6ms postprocess per image at shape (1, 3, 1024, 800)\n"
     ]
    },
    {
     "name": "stderr",
     "output_type": "stream",
     "text": [
      "\r",
      " 86%|████████▌ | 310/360 [01:39<00:15,  3.18it/s]"
     ]
    },
    {
     "name": "stdout",
     "output_type": "stream",
     "text": [
      "\n",
      "0: 1024x800 2 tables, 282.3ms\n",
      "Speed: 7.3ms preprocess, 282.3ms inference, 1.0ms postprocess per image at shape (1, 3, 1024, 800)\n"
     ]
    },
    {
     "name": "stderr",
     "output_type": "stream",
     "text": [
      "\r",
      " 86%|████████▋ | 311/360 [01:39<00:15,  3.18it/s]"
     ]
    },
    {
     "name": "stdout",
     "output_type": "stream",
     "text": [
      "\n",
      "0: 1024x736 1 table, 259.2ms\n",
      "Speed: 8.2ms preprocess, 259.2ms inference, 0.5ms postprocess per image at shape (1, 3, 1024, 736)\n"
     ]
    },
    {
     "name": "stderr",
     "output_type": "stream",
     "text": [
      "\r",
      " 87%|████████▋ | 312/360 [01:40<00:14,  3.30it/s]"
     ]
    },
    {
     "name": "stdout",
     "output_type": "stream",
     "text": [
      "\n",
      "0: 1024x800 1 table, 283.4ms\n",
      "Speed: 6.9ms preprocess, 283.4ms inference, 0.6ms postprocess per image at shape (1, 3, 1024, 800)\n"
     ]
    },
    {
     "name": "stderr",
     "output_type": "stream",
     "text": [
      "\r",
      " 87%|████████▋ | 313/360 [01:40<00:14,  3.26it/s]"
     ]
    },
    {
     "name": "stdout",
     "output_type": "stream",
     "text": [
      "\n",
      "0: 1024x800 1 table, 286.6ms\n",
      "Speed: 6.4ms preprocess, 286.6ms inference, 0.6ms postprocess per image at shape (1, 3, 1024, 800)\n"
     ]
    },
    {
     "name": "stderr",
     "output_type": "stream",
     "text": [
      "\r",
      " 87%|████████▋ | 314/360 [01:40<00:14,  3.23it/s]"
     ]
    },
    {
     "name": "stdout",
     "output_type": "stream",
     "text": [
      "\n",
      "0: 1024x736 1 table, 261.6ms\n",
      "Speed: 6.4ms preprocess, 261.6ms inference, 0.6ms postprocess per image at shape (1, 3, 1024, 736)\n"
     ]
    },
    {
     "name": "stderr",
     "output_type": "stream",
     "text": [
      "\r",
      " 88%|████████▊ | 315/360 [01:40<00:13,  3.33it/s]"
     ]
    },
    {
     "name": "stdout",
     "output_type": "stream",
     "text": [
      "\n",
      "0: 1024x800 1 table, 282.6ms\n",
      "Speed: 8.6ms preprocess, 282.6ms inference, 0.5ms postprocess per image at shape (1, 3, 1024, 800)\n"
     ]
    },
    {
     "name": "stderr",
     "output_type": "stream",
     "text": [
      "\r",
      " 88%|████████▊ | 316/360 [01:41<00:14,  3.12it/s]"
     ]
    },
    {
     "name": "stdout",
     "output_type": "stream",
     "text": [
      "\n",
      "0: 1024x736 1 table, 277.6ms\n",
      "Speed: 7.6ms preprocess, 277.6ms inference, 1.0ms postprocess per image at shape (1, 3, 1024, 736)\n"
     ]
    },
    {
     "name": "stderr",
     "output_type": "stream",
     "text": [
      "\r",
      " 88%|████████▊ | 317/360 [01:41<00:14,  2.98it/s]"
     ]
    },
    {
     "name": "stdout",
     "output_type": "stream",
     "text": [
      "\n",
      "0: 1024x800 1 table, 274.2ms\n",
      "Speed: 8.8ms preprocess, 274.2ms inference, 0.9ms postprocess per image at shape (1, 3, 1024, 800)\n"
     ]
    },
    {
     "name": "stderr",
     "output_type": "stream",
     "text": [
      "\r",
      " 88%|████████▊ | 318/360 [01:42<00:14,  2.90it/s]"
     ]
    },
    {
     "name": "stdout",
     "output_type": "stream",
     "text": [
      "\n",
      "0: 1024x768 2 tables, 271.7ms\n",
      "Speed: 6.0ms preprocess, 271.7ms inference, 1.0ms postprocess per image at shape (1, 3, 1024, 768)\n"
     ]
    },
    {
     "name": "stderr",
     "output_type": "stream",
     "text": [
      "\r",
      " 89%|████████▊ | 319/360 [01:42<00:13,  3.05it/s]"
     ]
    },
    {
     "name": "stdout",
     "output_type": "stream",
     "text": [
      "\n",
      "0: 1024x800 1 table, 287.3ms\n",
      "Speed: 6.5ms preprocess, 287.3ms inference, 1.1ms postprocess per image at shape (1, 3, 1024, 800)\n"
     ]
    },
    {
     "name": "stderr",
     "output_type": "stream",
     "text": [
      "\r",
      " 89%|████████▉ | 320/360 [01:42<00:13,  3.05it/s]"
     ]
    },
    {
     "name": "stdout",
     "output_type": "stream",
     "text": [
      "\n",
      "0: 1024x800 1 table, 282.0ms\n",
      "Speed: 9.3ms preprocess, 282.0ms inference, 0.7ms postprocess per image at shape (1, 3, 1024, 800)\n"
     ]
    },
    {
     "name": "stderr",
     "output_type": "stream",
     "text": [
      "\r",
      " 89%|████████▉ | 321/360 [01:43<00:13,  2.90it/s]"
     ]
    },
    {
     "name": "stdout",
     "output_type": "stream",
     "text": [
      "\n",
      "0: 1024x736 1 table, 249.8ms\n",
      "Speed: 8.5ms preprocess, 249.8ms inference, 1.0ms postprocess per image at shape (1, 3, 1024, 736)\n"
     ]
    },
    {
     "name": "stderr",
     "output_type": "stream",
     "text": [
      "\r",
      " 89%|████████▉ | 322/360 [01:43<00:13,  2.91it/s]"
     ]
    },
    {
     "name": "stdout",
     "output_type": "stream",
     "text": [
      "\n",
      "0: 1024x768 2 tables, 283.1ms\n",
      "Speed: 6.3ms preprocess, 283.1ms inference, 0.8ms postprocess per image at shape (1, 3, 1024, 768)\n"
     ]
    },
    {
     "name": "stderr",
     "output_type": "stream",
     "text": [
      "\r",
      " 90%|████████▉ | 323/360 [01:43<00:12,  2.99it/s]"
     ]
    },
    {
     "name": "stdout",
     "output_type": "stream",
     "text": [
      "\n",
      "0: 1024x800 2 tables, 286.5ms\n",
      "Speed: 6.7ms preprocess, 286.5ms inference, 0.6ms postprocess per image at shape (1, 3, 1024, 800)\n"
     ]
    },
    {
     "name": "stderr",
     "output_type": "stream",
     "text": [
      "\r",
      " 90%|█████████ | 324/360 [01:43<00:11,  3.05it/s]"
     ]
    },
    {
     "name": "stdout",
     "output_type": "stream",
     "text": [
      "\n",
      "0: 1024x800 1 table, 284.0ms\n",
      "Speed: 9.8ms preprocess, 284.0ms inference, 3.2ms postprocess per image at shape (1, 3, 1024, 800)\n"
     ]
    },
    {
     "name": "stderr",
     "output_type": "stream",
     "text": [
      "\r",
      " 90%|█████████ | 325/360 [01:44<00:11,  2.92it/s]"
     ]
    },
    {
     "name": "stdout",
     "output_type": "stream",
     "text": [
      "\n",
      "0: 1024x800 1 table, 276.4ms\n",
      "Speed: 8.4ms preprocess, 276.4ms inference, 1.3ms postprocess per image at shape (1, 3, 1024, 800)\n"
     ]
    },
    {
     "name": "stderr",
     "output_type": "stream",
     "text": [
      "\r",
      " 91%|█████████ | 326/360 [01:44<00:11,  2.87it/s]"
     ]
    },
    {
     "name": "stdout",
     "output_type": "stream",
     "text": [
      "\n",
      "0: 1024x672 1 table, 237.6ms\n",
      "Speed: 7.0ms preprocess, 237.6ms inference, 0.9ms postprocess per image at shape (1, 3, 1024, 672)\n"
     ]
    },
    {
     "name": "stderr",
     "output_type": "stream",
     "text": [
      "\r",
      " 91%|█████████ | 327/360 [01:45<00:10,  3.02it/s]"
     ]
    },
    {
     "name": "stdout",
     "output_type": "stream",
     "text": [
      "\n",
      "0: 1024x800 2 tables, 289.1ms\n",
      "Speed: 7.6ms preprocess, 289.1ms inference, 0.6ms postprocess per image at shape (1, 3, 1024, 800)\n"
     ]
    },
    {
     "name": "stderr",
     "output_type": "stream",
     "text": [
      "\r",
      " 91%|█████████ | 328/360 [01:45<00:10,  3.06it/s]"
     ]
    },
    {
     "name": "stdout",
     "output_type": "stream",
     "text": [
      "\n",
      "0: 1024x800 1 table, 301.3ms\n",
      "Speed: 7.8ms preprocess, 301.3ms inference, 4.2ms postprocess per image at shape (1, 3, 1024, 800)\n"
     ]
    },
    {
     "name": "stderr",
     "output_type": "stream",
     "text": [
      "\r",
      " 91%|█████████▏| 329/360 [01:45<00:10,  3.03it/s]"
     ]
    },
    {
     "name": "stdout",
     "output_type": "stream",
     "text": [
      "\n",
      "0: 1024x800 2 tables, 286.4ms\n",
      "Speed: 9.9ms preprocess, 286.4ms inference, 0.8ms postprocess per image at shape (1, 3, 1024, 800)\n"
     ]
    },
    {
     "name": "stderr",
     "output_type": "stream",
     "text": [
      "\r",
      " 92%|█████████▏| 330/360 [01:46<00:10,  2.90it/s]"
     ]
    },
    {
     "name": "stdout",
     "output_type": "stream",
     "text": [
      "\n",
      "0: 1024x768 3 tables, 273.8ms\n",
      "Speed: 6.8ms preprocess, 273.8ms inference, 0.9ms postprocess per image at shape (1, 3, 1024, 768)\n"
     ]
    },
    {
     "name": "stderr",
     "output_type": "stream",
     "text": [
      "\r",
      " 92%|█████████▏| 331/360 [01:46<00:09,  3.00it/s]"
     ]
    },
    {
     "name": "stdout",
     "output_type": "stream",
     "text": [
      "\n",
      "0: 1024x736 1 table, 267.0ms\n",
      "Speed: 5.8ms preprocess, 267.0ms inference, 0.8ms postprocess per image at shape (1, 3, 1024, 736)\n"
     ]
    },
    {
     "name": "stderr",
     "output_type": "stream",
     "text": [
      "\r",
      " 92%|█████████▏| 332/360 [01:46<00:08,  3.14it/s]"
     ]
    },
    {
     "name": "stdout",
     "output_type": "stream",
     "text": [
      "\n",
      "0: 1024x800 1 table, 282.4ms\n",
      "Speed: 8.9ms preprocess, 282.4ms inference, 0.6ms postprocess per image at shape (1, 3, 1024, 800)\n"
     ]
    },
    {
     "name": "stderr",
     "output_type": "stream",
     "text": [
      "\r",
      " 92%|█████████▎| 333/360 [01:47<00:09,  2.99it/s]"
     ]
    },
    {
     "name": "stdout",
     "output_type": "stream",
     "text": [
      "\n",
      "0: 1024x800 2 tables, 285.3ms\n",
      "Speed: 5.6ms preprocess, 285.3ms inference, 1.3ms postprocess per image at shape (1, 3, 1024, 800)\n"
     ]
    },
    {
     "name": "stderr",
     "output_type": "stream",
     "text": [
      "\r",
      " 93%|█████████▎| 334/360 [01:47<00:08,  3.08it/s]"
     ]
    },
    {
     "name": "stdout",
     "output_type": "stream",
     "text": [
      "\n",
      "0: 1024x800 1 table, 283.8ms\n",
      "Speed: 8.7ms preprocess, 283.8ms inference, 0.6ms postprocess per image at shape (1, 3, 1024, 800)\n"
     ]
    },
    {
     "name": "stderr",
     "output_type": "stream",
     "text": [
      "\r",
      " 93%|█████████▎| 335/360 [01:47<00:08,  2.91it/s]"
     ]
    },
    {
     "name": "stdout",
     "output_type": "stream",
     "text": [
      "\n",
      "0: 1024x800 1 table, 277.8ms\n",
      "Speed: 9.3ms preprocess, 277.8ms inference, 0.9ms postprocess per image at shape (1, 3, 1024, 800)\n"
     ]
    },
    {
     "name": "stderr",
     "output_type": "stream",
     "text": [
      "\r",
      " 93%|█████████▎| 336/360 [01:48<00:08,  2.82it/s]"
     ]
    },
    {
     "name": "stdout",
     "output_type": "stream",
     "text": [
      "\n",
      "0: 1024x800 1 table, 271.4ms\n",
      "Speed: 5.8ms preprocess, 271.4ms inference, 1.1ms postprocess per image at shape (1, 3, 1024, 800)\n"
     ]
    },
    {
     "name": "stderr",
     "output_type": "stream",
     "text": [
      "\r",
      " 94%|█████████▎| 337/360 [01:48<00:07,  2.99it/s]"
     ]
    },
    {
     "name": "stdout",
     "output_type": "stream",
     "text": [
      "\n",
      "0: 1024x800 2 tables, 321.4ms\n",
      "Speed: 7.9ms preprocess, 321.4ms inference, 0.9ms postprocess per image at shape (1, 3, 1024, 800)\n"
     ]
    },
    {
     "name": "stderr",
     "output_type": "stream",
     "text": [
      "\r",
      " 94%|█████████▍| 338/360 [01:48<00:07,  2.93it/s]"
     ]
    },
    {
     "name": "stdout",
     "output_type": "stream",
     "text": [
      "\n",
      "0: 1024x672 2 tables, 232.8ms\n",
      "Speed: 5.3ms preprocess, 232.8ms inference, 0.6ms postprocess per image at shape (1, 3, 1024, 672)\n"
     ]
    },
    {
     "name": "stderr",
     "output_type": "stream",
     "text": [
      "\r",
      " 94%|█████████▍| 339/360 [01:48<00:06,  3.20it/s]"
     ]
    },
    {
     "name": "stdout",
     "output_type": "stream",
     "text": [
      "\n",
      "0: 1024x800 1 table, 282.8ms\n",
      "Speed: 7.5ms preprocess, 282.8ms inference, 0.6ms postprocess per image at shape (1, 3, 1024, 800)\n"
     ]
    },
    {
     "name": "stderr",
     "output_type": "stream",
     "text": [
      "\r",
      " 94%|█████████▍| 340/360 [01:49<00:06,  3.18it/s]"
     ]
    },
    {
     "name": "stdout",
     "output_type": "stream",
     "text": [
      "\n",
      "0: 1024x800 3 tables, 295.7ms\n",
      "Speed: 10.6ms preprocess, 295.7ms inference, 0.9ms postprocess per image at shape (1, 3, 1024, 800)\n"
     ]
    },
    {
     "name": "stderr",
     "output_type": "stream",
     "text": [
      "\r",
      " 95%|█████████▍| 341/360 [01:49<00:06,  2.93it/s]"
     ]
    },
    {
     "name": "stdout",
     "output_type": "stream",
     "text": [
      "\n",
      "0: 1024x768 2 tables, 301.3ms\n",
      "Speed: 8.2ms preprocess, 301.3ms inference, 1.4ms postprocess per image at shape (1, 3, 1024, 768)\n"
     ]
    },
    {
     "name": "stderr",
     "output_type": "stream",
     "text": [
      "\r",
      " 95%|█████████▌| 342/360 [01:50<00:06,  2.93it/s]"
     ]
    },
    {
     "name": "stdout",
     "output_type": "stream",
     "text": [
      "\n",
      "0: 1024x800 1 table, 308.7ms\n",
      "Speed: 10.2ms preprocess, 308.7ms inference, 0.6ms postprocess per image at shape (1, 3, 1024, 800)\n"
     ]
    },
    {
     "name": "stderr",
     "output_type": "stream",
     "text": [
      "\r",
      " 95%|█████████▌| 343/360 [01:50<00:06,  2.75it/s]"
     ]
    },
    {
     "name": "stdout",
     "output_type": "stream",
     "text": [
      "\n",
      "0: 1024x800 1 table, 311.1ms\n",
      "Speed: 11.4ms preprocess, 311.1ms inference, 0.9ms postprocess per image at shape (1, 3, 1024, 800)\n"
     ]
    },
    {
     "name": "stderr",
     "output_type": "stream",
     "text": [
      "\r",
      " 96%|█████████▌| 344/360 [01:50<00:06,  2.65it/s]"
     ]
    },
    {
     "name": "stdout",
     "output_type": "stream",
     "text": [
      "\n",
      "0: 1024x800 2 tables, 297.0ms\n",
      "Speed: 6.6ms preprocess, 297.0ms inference, 0.9ms postprocess per image at shape (1, 3, 1024, 800)\n"
     ]
    },
    {
     "name": "stderr",
     "output_type": "stream",
     "text": [
      "\r",
      " 96%|█████████▌| 345/360 [01:51<00:05,  2.75it/s]"
     ]
    },
    {
     "name": "stdout",
     "output_type": "stream",
     "text": [
      "\n",
      "0: 1024x800 2 tables, 299.2ms\n",
      "Speed: 7.9ms preprocess, 299.2ms inference, 0.6ms postprocess per image at shape (1, 3, 1024, 800)\n"
     ]
    },
    {
     "name": "stderr",
     "output_type": "stream",
     "text": [
      "\r",
      " 96%|█████████▌| 346/360 [01:51<00:04,  2.83it/s]"
     ]
    },
    {
     "name": "stdout",
     "output_type": "stream",
     "text": [
      "\n",
      "0: 1024x768 2 tables, 291.9ms\n",
      "Speed: 8.0ms preprocess, 291.9ms inference, 0.6ms postprocess per image at shape (1, 3, 1024, 768)\n"
     ]
    },
    {
     "name": "stderr",
     "output_type": "stream",
     "text": [
      "\r",
      " 96%|█████████▋| 347/360 [01:51<00:04,  2.93it/s]"
     ]
    },
    {
     "name": "stdout",
     "output_type": "stream",
     "text": [
      "\n",
      "0: 1024x736 5 tables, 277.4ms\n",
      "Speed: 5.8ms preprocess, 277.4ms inference, 1.2ms postprocess per image at shape (1, 3, 1024, 736)\n"
     ]
    },
    {
     "name": "stderr",
     "output_type": "stream",
     "text": [
      "\r",
      " 97%|█████████▋| 348/360 [01:52<00:03,  3.05it/s]"
     ]
    },
    {
     "name": "stdout",
     "output_type": "stream",
     "text": [
      "\n",
      "0: 1024x800 3 tables, 294.7ms\n",
      "Speed: 8.7ms preprocess, 294.7ms inference, 0.6ms postprocess per image at shape (1, 3, 1024, 800)\n"
     ]
    },
    {
     "name": "stderr",
     "output_type": "stream",
     "text": [
      "\r",
      " 97%|█████████▋| 349/360 [01:52<00:03,  2.87it/s]"
     ]
    },
    {
     "name": "stdout",
     "output_type": "stream",
     "text": [
      "\n",
      "0: 1024x800 1 table, 303.9ms\n",
      "Speed: 7.0ms preprocess, 303.9ms inference, 1.2ms postprocess per image at shape (1, 3, 1024, 800)\n"
     ]
    },
    {
     "name": "stderr",
     "output_type": "stream",
     "text": [
      "\r",
      " 97%|█████████▋| 350/360 [01:52<00:03,  2.91it/s]"
     ]
    },
    {
     "name": "stdout",
     "output_type": "stream",
     "text": [
      "\n",
      "0: 1024x736 1 table, 265.8ms\n",
      "Speed: 6.9ms preprocess, 265.8ms inference, 0.6ms postprocess per image at shape (1, 3, 1024, 736)\n"
     ]
    },
    {
     "name": "stderr",
     "output_type": "stream",
     "text": [
      "\r",
      " 98%|█████████▊| 351/360 [01:53<00:02,  3.08it/s]"
     ]
    },
    {
     "name": "stdout",
     "output_type": "stream",
     "text": [
      "\n",
      "0: 1024x800 1 table, 283.6ms\n",
      "Speed: 7.1ms preprocess, 283.6ms inference, 0.6ms postprocess per image at shape (1, 3, 1024, 800)\n"
     ]
    },
    {
     "name": "stderr",
     "output_type": "stream",
     "text": [
      "\r",
      " 98%|█████████▊| 352/360 [01:53<00:02,  3.11it/s]"
     ]
    },
    {
     "name": "stdout",
     "output_type": "stream",
     "text": [
      "\n",
      "0: 1024x768 1 table, 278.6ms\n",
      "Speed: 5.7ms preprocess, 278.6ms inference, 0.7ms postprocess per image at shape (1, 3, 1024, 768)\n"
     ]
    },
    {
     "name": "stderr",
     "output_type": "stream",
     "text": [
      "\r",
      " 98%|█████████▊| 353/360 [01:53<00:02,  3.18it/s]"
     ]
    },
    {
     "name": "stdout",
     "output_type": "stream",
     "text": [
      "\n",
      "0: 1024x736 1 table, 260.1ms\n",
      "Speed: 7.8ms preprocess, 260.1ms inference, 0.6ms postprocess per image at shape (1, 3, 1024, 736)\n"
     ]
    },
    {
     "name": "stderr",
     "output_type": "stream",
     "text": [
      "\r",
      " 98%|█████████▊| 354/360 [01:54<00:01,  3.06it/s]"
     ]
    },
    {
     "name": "stdout",
     "output_type": "stream",
     "text": [
      "\n",
      "0: 1024x800 2 tables, 280.2ms\n",
      "Speed: 7.3ms preprocess, 280.2ms inference, 1.0ms postprocess per image at shape (1, 3, 1024, 800)\n"
     ]
    },
    {
     "name": "stderr",
     "output_type": "stream",
     "text": [
      "\r",
      " 99%|█████████▊| 355/360 [01:54<00:01,  3.12it/s]"
     ]
    },
    {
     "name": "stdout",
     "output_type": "stream",
     "text": [
      "\n",
      "0: 1024x800 1 table, 292.6ms\n",
      "Speed: 8.3ms preprocess, 292.6ms inference, 0.6ms postprocess per image at shape (1, 3, 1024, 800)\n"
     ]
    },
    {
     "name": "stderr",
     "output_type": "stream",
     "text": [
      "\r",
      " 99%|█████████▉| 356/360 [01:54<00:01,  2.91it/s]"
     ]
    },
    {
     "name": "stdout",
     "output_type": "stream",
     "text": [
      "\n",
      "0: 1024x736 1 table, 252.1ms\n",
      "Speed: 5.5ms preprocess, 252.1ms inference, 0.9ms postprocess per image at shape (1, 3, 1024, 736)\n"
     ]
    },
    {
     "name": "stderr",
     "output_type": "stream",
     "text": [
      "\r",
      " 99%|█████████▉| 357/360 [01:55<00:00,  3.11it/s]"
     ]
    },
    {
     "name": "stdout",
     "output_type": "stream",
     "text": [
      "\n",
      "0: 1024x768 1 table, 273.4ms\n",
      "Speed: 7.9ms preprocess, 273.4ms inference, 0.6ms postprocess per image at shape (1, 3, 1024, 768)\n"
     ]
    },
    {
     "name": "stderr",
     "output_type": "stream",
     "text": [
      "\r",
      " 99%|█████████▉| 358/360 [01:55<00:00,  3.15it/s]"
     ]
    },
    {
     "name": "stdout",
     "output_type": "stream",
     "text": [
      "\n",
      "0: 1024x768 1 table, 278.4ms\n",
      "Speed: 7.3ms preprocess, 278.4ms inference, 0.6ms postprocess per image at shape (1, 3, 1024, 768)\n"
     ]
    },
    {
     "name": "stderr",
     "output_type": "stream",
     "text": [
      "\r",
      "100%|█████████▉| 359/360 [01:55<00:00,  3.15it/s]"
     ]
    },
    {
     "name": "stdout",
     "output_type": "stream",
     "text": [
      "\n",
      "0: 1024x800 2 tables, 278.2ms\n",
      "Speed: 14.6ms preprocess, 278.2ms inference, 3.8ms postprocess per image at shape (1, 3, 1024, 800)\n"
     ]
    },
    {
     "name": "stderr",
     "output_type": "stream",
     "text": [
      "100%|██████████| 360/360 [01:56<00:00,  3.10it/s]"
     ]
    },
    {
     "name": "stdout",
     "output_type": "stream",
     "text": [
      "0.6831944444444444\n",
      "0.6890277777777778\n",
      "0.686098712325686\n"
     ]
    },
    {
     "name": "stderr",
     "output_type": "stream",
     "text": [
      "\n"
     ]
    }
   ],
   "source": [
    "P = 0\n",
    "R = 0\n",
    "N = len(image_name_list)\n",
    "\n",
    "for img_path in tqdm.tqdm(image_name_list):\n",
    "    #print(img_path)\n",
    "    img_id = get_img_id_from_annots(image_annots, img_path)\n",
    "    shrink_ht = 1\n",
    "    shrink_wt = 1\n",
    "    gt_bboxes = get_table_annots_from_id(table_annots, img_id)\n",
    "    #print(gt_bboxes)\n",
    "    det_bboxes = get_yolo_preds(img_path, docseg_model, thresh = conf_thresh)\n",
    "    #print(det_bboxes)\n",
    "    #print('*' * 50)\n",
    "    p, r = calculate_metrics(gt_bboxes, det_bboxes)\n",
    "    P += p\n",
    "    R += r\n",
    "    \n",
    "\n",
    "pr = P/N\n",
    "rc = R/N\n",
    "su = pr + rc\n",
    "f1 = 2 * pr * rc / su\n",
    "\n",
    "print(pr)\n",
    "print(rc)\n",
    "print(f1)"
   ]
  },
  {
   "cell_type": "code",
   "execution_count": null,
   "id": "b07ae1ed",
   "metadata": {},
   "outputs": [],
   "source": []
  }
 ],
 "metadata": {
  "kernelspec": {
   "display_name": "Python 3 (ipykernel)",
   "language": "python",
   "name": "python3"
  },
  "language_info": {
   "codemirror_mode": {
    "name": "ipython",
    "version": 3
   },
   "file_extension": ".py",
   "mimetype": "text/x-python",
   "name": "python",
   "nbconvert_exporter": "python",
   "pygments_lexer": "ipython3",
   "version": "3.8.10"
  }
 },
 "nbformat": 4,
 "nbformat_minor": 5
}
